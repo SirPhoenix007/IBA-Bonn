{
 "cells": [
  {
   "cell_type": "code",
   "execution_count": null,
   "id": "ee1db3fa",
   "metadata": {},
   "outputs": [
    {
     "name": "stdout",
     "output_type": "stream",
     "text": [
      "No conda env active, defaulting to base\n",
      "MAC address: 0x145afc4fe836\n"
     ]
    }
   ],
   "source": [
    "\n",
    "#by Henry Schumacher\n",
    "#-o-o-o-o-o-o-o-o-o-o-o-o-o-o-o-o-o-o-o-o-o-o-o-o-o-#\n",
    "import os\n",
    "import sys\n",
    "import json\n",
    "import uuid\n",
    "import xraydb\n",
    "import plotly\n",
    "#-o-o-o-o-o-o-o-o-o-o-o-o-o-o-o-o-o-o-o-o-o-o-o-o-o-#\n",
    "import numpy as np\n",
    "import pandas as pd\n",
    "import pyxray as xy\n",
    "import seaborn as sb\n",
    "#-o-o-o-o-o-o-o-o-o-o-o-o-o-o-o-o-o-o-o-o-o-o-o-o-o-#\n",
    "import matplotlib.pyplot as plt\n",
    "from scipy.signal import find_peaks\n",
    "#-o-o-o-o-o-o-o-o-o-o-o-o-o-o-o-o-o-o-o-o-o-o-o-o-o-#\n",
    "from matplotlib import rc\n",
    "# rc('font',**{'family':'sans-serif','sans-serif':['Helvetica']})\n",
    "## for Palatino and other serif fonts use:\n",
    "plt.rcParams.update({\n",
    "    \"font.family\": \"serif\",\n",
    "    \"font.serif\": [\"Times\"],\n",
    "    \"text.usetex\": True,\n",
    "    \"font.size\": 8,\n",
    "    \"pgf.rcfonts\": False\n",
    "})\n",
    "# rc('font',**{'family':'serif','serif':['Times']})\n",
    "# rc('text', usetex=True)\n",
    "# plt.rcParams.update({'font.size': 8})\n",
    "\n",
    "plt.rcParams.update({\n",
    "    \"pgf.texsystem\": \"pdflatex\",\n",
    "    \"pgf.preamble\": \"\\n\".join([\n",
    "          r\"\\usepackage{mathtools}\",\n",
    "     ]),\n",
    "})\n",
    "#-o-o-o-o-o-o-o-o-o-o-o-o-o-o-o-o-o-o-o-o-o-o-o-o-o-#\n",
    "def dual_print(*args, **kwargs):\n",
    "    print(*args)\n",
    "    with open('bins_matching_log.txt', 'a') as out:\n",
    "        print(*args, **kwargs, file=out)\n",
    "#-o-o-o-o-o-o-o-o-o-o-o-o-o-o-o-o-o-o-o-o-o-o-o-o-o-#\n",
    "from RootToPythonConverter.json_to_np import *\n",
    "from RootToPythonConverter.colors import load_colors\n",
    "#-o-o-o-o-o-o-o-o-o-o-o-o-o-o-o-o-o-o-o-o-o-o-o-o-o-#\n",
    "\n",
    "\n",
    "mac = hex(uuid.getnode())\n",
    "print(f\"MAC address: {mac}\")\n",
    "\n",
    "mac_dict = {'0xb6ab0b4445f9': ['C://Users//schum//Documents//Filing Cabinet//1_RootFilesGeant4', 'C://Users//schum//Documents//Filing Cabinet//2_jsonFiles'], # Office\n",
    "            '0x145afc4fe836': ['C://Users//schum//Documents//root_files_temp_storage', 'C://Users//schum//Documents//json_files_temp_storage'], # Laptop\n",
    "            '0x1a7dda7115'  : ['B://IBA//root', 'B://IBA//json']} # Home PC\n",
    "# Each mac adresse leads to a pair of paths, the first being the folder, \n",
    "# where the root files are, the second, where the json files are supposed to be stored\n",
    "# root_path = mac_dict[mac][0]\n",
    "json_path = mac_dict[mac][1]\n",
    "\n",
    "color_schemes = load_colors()\n",
    "# print(color_schemes)"
   ]
  },
  {
   "cell_type": "code",
   "execution_count": 2,
   "id": "1ef03dbc",
   "metadata": {},
   "outputs": [],
   "source": [
    "PARAM_XRAY_L = {'mask_min': 0.,     # Minimum Edge\n",
    "              'mask_max':0.01,      # 10 keV \n",
    "              'title': 'X-ray spectrum up to 10 keV',\n",
    "              'peak_height': 10     # Peak height for detection\n",
    "              }\n",
    "\n",
    "PARAM_XRAY_H = {'mask_min': 0.,     # Minimum Edge\n",
    "              'mask_max':0.1,       # 10 keV \n",
    "              'title': 'X-ray spectrum up to 100 keV',\n",
    "              'peak_height': 100    # Peak height for detection\n",
    "              }\n",
    "\n",
    "PARAM_GAMMA = {'mask_min': 0.,\n",
    "               'mask_max': 2.,\n",
    "               'title': 'Gamma spectrum up to 2 MeV',\n",
    "               'peak_height': 1000   # Peak height for detection\n",
    "              }"
   ]
  },
  {
   "cell_type": "code",
   "execution_count": 3,
   "id": "26747a3e",
   "metadata": {},
   "outputs": [],
   "source": [
    "def xray_line_searcher(energy_low, energy_high):\n",
    "    '''\n",
    "    energy_low/high: in eV\n",
    "    '''\n",
    "    matching = []\n",
    "    xray_line_path = './/xraylines.json'\n",
    "    \n",
    "    if (xraydb.xray_lines('Fe') != {}):\n",
    "        for Z in range(1, 101):  # Elements from Hydrogen (Z=1) to Fermium (Z=100)\n",
    "            element = xraydb.atomic_symbol(Z)\n",
    "            # Get all known X-ray lines for the element\n",
    "            try:\n",
    "                lines = xraydb.xray_lines(element)\n",
    "            except Exception:\n",
    "                continue  # Skip elements that don't have data\n",
    "            \n",
    "            # print(lines)\n",
    "            for line_id, line in lines.items():\n",
    "                line_energy = line.energy  # Energy in keV\n",
    "                if (energy_low <= line_energy and line_energy <= energy_high):\n",
    "                    matching.append({\n",
    "                        'element': element,\n",
    "                        'Z': Z,\n",
    "                        'transition': line_id,\n",
    "                        'energy_eV': line_energy,\n",
    "                        'intensity': line.intensity\n",
    "                    })\n",
    "    else: #the data extraction has to be fixed.\n",
    "        with open(xray_line_path, \"r\") as j:\n",
    "            xraydata = json.load(j)\n",
    "        for Z in range(1,101):\n",
    "            element = xraydb.atomic_symbol(Z)\n",
    "            try:\n",
    "                lines = xraydata[element]\n",
    "            except Exception:\n",
    "                continue\n",
    "            \n",
    "            for line_id, line in lines.items():\n",
    "                line_energy = line.energy  # Energy in keV\n",
    "                if (energy_low <= line_energy and line_energy <= energy_high):\n",
    "                    matching.append({\n",
    "                        'element': element,\n",
    "                        'Z': Z,\n",
    "                        'transition': line_id,\n",
    "                        'energy_eV': line_energy,\n",
    "                        'intensity': line.intensity\n",
    "                    })\n",
    "\n",
    "    return matching"
   ]
  },
  {
   "cell_type": "code",
   "execution_count": 4,
   "id": "cc603170",
   "metadata": {},
   "outputs": [
    {
     "name": "stdout",
     "output_type": "stream",
     "text": [
      "[{'element': 'Be', 'Z': 4, 'transition': 'Ka3', 'energy_eV': 103.5, 'intensity': 4.87326e-05}, {'element': 'Be', 'Z': 4, 'transition': 'Ka2', 'energy_eV': 108.5, 'intensity': 0.334205}, {'element': 'Be', 'Z': 4, 'transition': 'Ka1', 'energy_eV': 108.5, 'intensity': 0.665747}, {'element': 'B', 'Z': 5, 'transition': 'Ka3', 'energy_eV': 175.4, 'intensity': 6.09151e-05}, {'element': 'B', 'Z': 5, 'transition': 'Ka2', 'energy_eV': 183.3, 'intensity': 0.334201}, {'element': 'B', 'Z': 5, 'transition': 'Ka1', 'energy_eV': 183.3, 'intensity': 0.665738}, {'element': 'C', 'Z': 6, 'transition': 'Ka3', 'energy_eV': 266.2, 'intensity': 7.30972e-05}, {'element': 'C', 'Z': 6, 'transition': 'Ka2', 'energy_eV': 277.0, 'intensity': 0.334197}, {'element': 'C', 'Z': 6, 'transition': 'Ka1', 'energy_eV': 277.0, 'intensity': 0.66573}, {'element': 'N', 'Z': 7, 'transition': 'Ka3', 'energy_eV': 372.6, 'intensity': 8.5279e-05}, {'element': 'N', 'Z': 7, 'transition': 'Ka2', 'energy_eV': 392.4, 'intensity': 0.334193}, {'element': 'N', 'Z': 7, 'transition': 'Ka1', 'energy_eV': 392.4, 'intensity': 0.665722}, {'element': 'O', 'Z': 8, 'transition': 'Ka3', 'energy_eV': 501.5, 'intensity': 9.74605e-05}, {'element': 'O', 'Z': 8, 'transition': 'Ka2', 'energy_eV': 524.9, 'intensity': 0.334188}, {'element': 'O', 'Z': 8, 'transition': 'Ka1', 'energy_eV': 524.9, 'intensity': 0.665714}, {'element': 'F', 'Z': 9, 'transition': 'Ka3', 'energy_eV': 651.7, 'intensity': 0.000109642}, {'element': 'F', 'Z': 9, 'transition': 'Ka2', 'energy_eV': 676.8, 'intensity': 0.334184}, {'element': 'F', 'Z': 9, 'transition': 'Ka1', 'energy_eV': 676.8, 'intensity': 0.665706}, {'element': 'Ne', 'Z': 10, 'transition': 'Ka3', 'energy_eV': 821.7, 'intensity': 0.000121823}, {'element': 'Ne', 'Z': 10, 'transition': 'Ka2', 'energy_eV': 848.5, 'intensity': 0.33418}, {'element': 'Ne', 'Z': 10, 'transition': 'Ka1', 'energy_eV': 848.6, 'intensity': 0.665698}, {'element': 'Na', 'Z': 11, 'transition': 'Ka3', 'energy_eV': 1007.3, 'intensity': 0.000134003}, {'element': 'Na', 'Z': 11, 'transition': 'Ka2', 'energy_eV': 1040.4, 'intensity': 0.334176}, {'element': 'Na', 'Z': 11, 'transition': 'Ka1', 'energy_eV': 1040.3, 'intensity': 0.66569}, {'element': 'Mg', 'Z': 12, 'transition': 'Ka3', 'energy_eV': 1214.4, 'intensity': 0.000130028}, {'element': 'Mg', 'Z': 12, 'transition': 'Ka2', 'energy_eV': 1253.4, 'intensity': 0.29724}, {'element': 'Mg', 'Z': 12, 'transition': 'Ka1', 'energy_eV': 1253.79, 'intensity': 0.592111}, {'element': 'Mg', 'Z': 12, 'transition': 'Kb3', 'energy_eV': 1302.0, 'intensity': 0.0377135}, {'element': 'Mg', 'Z': 12, 'transition': 'Kb1', 'energy_eV': 1302.0, 'intensity': 0.072806}, {'element': 'Al', 'Z': 13, 'transition': 'Ka3', 'energy_eV': 1441.2, 'intensity': 0.000140693}, {'element': 'Al', 'Z': 13, 'transition': 'Ka2', 'energy_eV': 1486.1, 'intensity': 0.296882}, {'element': 'Al', 'Z': 13, 'transition': 'Ka1', 'energy_eV': 1486.5, 'intensity': 0.591398}, {'element': 'Al', 'Z': 13, 'transition': 'Kb3', 'energy_eV': 1557.0, 'intensity': 0.0380755}, {'element': 'Al', 'Z': 13, 'transition': 'Kb1', 'energy_eV': 1557.0, 'intensity': 0.0735048}, {'element': 'Al', 'Z': 13, 'transition': 'Lb4', 'energy_eV': 115.8, 'intensity': 0.413833}, {'element': 'Al', 'Z': 13, 'transition': 'Lb3', 'energy_eV': 115.8, 'intensity': 0.586166}, {'element': 'Si', 'Z': 14, 'transition': 'Ka3', 'energy_eV': 1689.3, 'intensity': 0.000151334}, {'element': 'Si', 'Z': 14, 'transition': 'Ka2', 'energy_eV': 1739.2, 'intensity': 0.296524}, {'element': 'Si', 'Z': 14, 'transition': 'Ka1', 'energy_eV': 1739.8, 'intensity': 0.590686}, {'element': 'Si', 'Z': 14, 'transition': 'Kb3', 'energy_eV': 1837.0, 'intensity': 0.0384366}, {'element': 'Si', 'Z': 14, 'transition': 'Kb1', 'energy_eV': 1837.0, 'intensity': 0.074202}, {'element': 'Si', 'Z': 14, 'transition': 'Lb4', 'energy_eV': 147.7, 'intensity': 0.413833}, {'element': 'Si', 'Z': 14, 'transition': 'Lb3', 'energy_eV': 147.7, 'intensity': 0.586166}, {'element': 'P', 'Z': 15, 'transition': 'Ka3', 'energy_eV': 1956.5, 'intensity': 0.000161948}, {'element': 'P', 'Z': 15, 'transition': 'Ka2', 'energy_eV': 2009.5, 'intensity': 0.296168}, {'element': 'P', 'Z': 15, 'transition': 'Ka1', 'energy_eV': 2010.5, 'intensity': 0.589976}, {'element': 'P', 'Z': 15, 'transition': 'Kb3', 'energy_eV': 2138.5, 'intensity': 0.0387969}, {'element': 'P', 'Z': 15, 'transition': 'Kb1', 'energy_eV': 2139.5, 'intensity': 0.0748974}, {'element': 'P', 'Z': 15, 'transition': 'Lb4', 'energy_eV': 182.0, 'intensity': 0.413833}, {'element': 'P', 'Z': 15, 'transition': 'Lb3', 'energy_eV': 183.0, 'intensity': 0.586166}, {'element': 'P', 'Z': 15, 'transition': 'Ln', 'energy_eV': 124.0, 'intensity': 1.0}, {'element': 'P', 'Z': 15, 'transition': 'Ll', 'energy_eV': 123.0, 'intensity': 1.0}, {'element': 'S', 'Z': 16, 'transition': 'Ka3', 'energy_eV': 2241.1, 'intensity': 0.000172538}, {'element': 'S', 'Z': 16, 'transition': 'Ka2', 'energy_eV': 2308.4, 'intensity': 0.295812}, {'element': 'S', 'Z': 16, 'transition': 'Ka1', 'energy_eV': 2309.5, 'intensity': 0.589268}, {'element': 'S', 'Z': 16, 'transition': 'Kb3', 'energy_eV': 2464.0, 'intensity': 0.0391563}, {'element': 'S', 'Z': 16, 'transition': 'Kb1', 'energy_eV': 2465.0, 'intensity': 0.0755913}, {'element': 'S', 'Z': 16, 'transition': 'Lb4', 'energy_eV': 222.9, 'intensity': 0.413833}, {'element': 'S', 'Z': 16, 'transition': 'Lb3', 'energy_eV': 223.9, 'intensity': 0.586166}, {'element': 'S', 'Z': 16, 'transition': 'Ln', 'energy_eV': 149.6, 'intensity': 1.0}, {'element': 'S', 'Z': 16, 'transition': 'Ll', 'energy_eV': 148.5, 'intensity': 1.0}, {'element': 'Cl', 'Z': 17, 'transition': 'Ka3', 'energy_eV': 2552.0, 'intensity': 0.000183101}, {'element': 'Cl', 'Z': 17, 'transition': 'Ka2', 'energy_eV': 2620.0, 'intensity': 0.295458}, {'element': 'Cl', 'Z': 17, 'transition': 'Ka1', 'energy_eV': 2622.0, 'intensity': 0.588561}, {'element': 'Cl', 'Z': 17, 'transition': 'Kb3', 'energy_eV': 2812.0, 'intensity': 0.0395148}, {'element': 'Cl', 'Z': 17, 'transition': 'Kb1', 'energy_eV': 2812.0, 'intensity': 0.0762834}, {'element': 'Cl', 'Z': 17, 'transition': 'Lb4', 'energy_eV': 260.0, 'intensity': 0.413833}, {'element': 'Cl', 'Z': 17, 'transition': 'Lb3', 'energy_eV': 260.0, 'intensity': 0.586166}, {'element': 'Cl', 'Z': 17, 'transition': 'Ln', 'energy_eV': 184.0, 'intensity': 1.0}, {'element': 'Cl', 'Z': 17, 'transition': 'Ll', 'energy_eV': 182.0, 'intensity': 1.0}, {'element': 'Ar', 'Z': 18, 'transition': 'Ka3', 'energy_eV': 2879.6, 'intensity': 0.00019364}, {'element': 'Ar', 'Z': 18, 'transition': 'Ka2', 'energy_eV': 2955.3, 'intensity': 0.295104}, {'element': 'Ar', 'Z': 18, 'transition': 'Ka1', 'energy_eV': 2957.5, 'intensity': 0.587856}, {'element': 'Ar', 'Z': 18, 'transition': 'Lb4', 'energy_eV': 310.4, 'intensity': 0.413833}, {'element': 'Ar', 'Z': 18, 'transition': 'Lb3', 'energy_eV': 310.6, 'intensity': 0.586166}, {'element': 'Ar', 'Z': 18, 'transition': 'Ln', 'energy_eV': 221.3, 'intensity': 1.0}, {'element': 'Ar', 'Z': 18, 'transition': 'Ll', 'energy_eV': 219.1, 'intensity': 1.0}, {'element': 'K', 'Z': 19, 'transition': 'Lb4', 'energy_eV': 360.3, 'intensity': 0.413833}, {'element': 'K', 'Z': 19, 'transition': 'Lb3', 'energy_eV': 360.3, 'intensity': 0.586166}, {'element': 'K', 'Z': 19, 'transition': 'Ln', 'energy_eV': 262.5, 'intensity': 1.0}, {'element': 'K', 'Z': 19, 'transition': 'Ll', 'energy_eV': 259.8, 'intensity': 1.0}, {'element': 'Ca', 'Z': 20, 'transition': 'Lb4', 'energy_eV': 413.0, 'intensity': 0.413833}, {'element': 'Ca', 'Z': 20, 'transition': 'Lb3', 'energy_eV': 413.0, 'intensity': 0.586166}, {'element': 'Ca', 'Z': 20, 'transition': 'Ln', 'energy_eV': 305.4, 'intensity': 1.0}, {'element': 'Ca', 'Z': 20, 'transition': 'Ll', 'energy_eV': 301.9, 'intensity': 1.0}, {'element': 'Sc', 'Z': 21, 'transition': 'Lb4', 'energy_eV': 469.7, 'intensity': 0.413833}, {'element': 'Sc', 'Z': 21, 'transition': 'Lb3', 'energy_eV': 469.7, 'intensity': 0.586166}, {'element': 'Sc', 'Z': 21, 'transition': 'Ln', 'energy_eV': 352.5, 'intensity': 1.0}, {'element': 'Sc', 'Z': 21, 'transition': 'Ll', 'energy_eV': 347.6, 'intensity': 1.0}, {'element': 'Ti', 'Z': 22, 'transition': 'Lb4', 'energy_eV': 528.3, 'intensity': 0.413833}, {'element': 'Ti', 'Z': 22, 'transition': 'Lb3', 'energy_eV': 528.3, 'intensity': 0.586166}, {'element': 'Ti', 'Z': 22, 'transition': 'Ln', 'energy_eV': 401.5, 'intensity': 0.0811695}, {'element': 'Ti', 'Z': 22, 'transition': 'Lb1', 'energy_eV': 458.2, 'intensity': 0.918831}, {'element': 'Ti', 'Z': 22, 'transition': 'Ll', 'energy_eV': 395.1, 'intensity': 0.0990991}, {'element': 'Ti', 'Z': 22, 'transition': 'La2', 'energy_eV': 451.8, 'intensity': 0.0892785}, {'element': 'Ti', 'Z': 22, 'transition': 'La1', 'energy_eV': 451.8, 'intensity': 0.811622}, {'element': 'V', 'Z': 23, 'transition': 'Lb4', 'energy_eV': 589.5, 'intensity': 0.413833}, {'element': 'V', 'Z': 23, 'transition': 'Lb3', 'energy_eV': 589.5, 'intensity': 0.586166}, {'element': 'V', 'Z': 23, 'transition': 'Ln', 'energy_eV': 453.5, 'intensity': 0.0794525}, {'element': 'V', 'Z': 23, 'transition': 'Lb1', 'energy_eV': 517.8, 'intensity': 0.920548}, {'element': 'V', 'Z': 23, 'transition': 'Ll', 'energy_eV': 445.8, 'intensity': 0.0990991}, {'element': 'V', 'Z': 23, 'transition': 'La2', 'energy_eV': 510.1, 'intensity': 0.0892785}, {'element': 'V', 'Z': 23, 'transition': 'La1', 'energy_eV': 510.1, 'intensity': 0.811622}, {'element': 'Cr', 'Z': 24, 'transition': 'Lb4', 'energy_eV': 653.8, 'intensity': 0.413833}, {'element': 'Cr', 'Z': 24, 'transition': 'Lb3', 'energy_eV': 653.8, 'intensity': 0.586166}, {'element': 'Cr', 'Z': 24, 'transition': 'Ln', 'energy_eV': 509.7, 'intensity': 0.077729}, {'element': 'Cr', 'Z': 24, 'transition': 'Lb1', 'energy_eV': 581.8, 'intensity': 0.922271}, {'element': 'Cr', 'Z': 24, 'transition': 'Ll', 'energy_eV': 500.0, 'intensity': 0.0990991}, {'element': 'Cr', 'Z': 24, 'transition': 'La2', 'energy_eV': 572.1, 'intensity': 0.0892785}, {'element': 'Cr', 'Z': 24, 'transition': 'La1', 'energy_eV': 572.1, 'intensity': 0.811622}, {'element': 'Mn', 'Z': 25, 'transition': 'Lb4', 'energy_eV': 721.9, 'intensity': 0.413833}, {'element': 'Mn', 'Z': 25, 'transition': 'Lb3', 'energy_eV': 721.9, 'intensity': 0.586166}, {'element': 'Mn', 'Z': 25, 'transition': 'Ln', 'energy_eV': 567.6, 'intensity': 0.0759991}, {'element': 'Mn', 'Z': 25, 'transition': 'Lb1', 'energy_eV': 647.9, 'intensity': 0.924001}, {'element': 'Mn', 'Z': 25, 'transition': 'Ll', 'energy_eV': 556.4, 'intensity': 0.0990991}, {'element': 'Mn', 'Z': 25, 'transition': 'La2', 'energy_eV': 636.7, 'intensity': 0.0892785}, {'element': 'Mn', 'Z': 25, 'transition': 'La1', 'energy_eV': 636.7, 'intensity': 0.811622}, {'element': 'Fe', 'Z': 26, 'transition': 'Lb4', 'energy_eV': 791.9, 'intensity': 0.413833}, {'element': 'Fe', 'Z': 26, 'transition': 'Lb3', 'energy_eV': 791.9, 'intensity': 0.586166}, {'element': 'Fe', 'Z': 26, 'transition': 'Ln', 'energy_eV': 628.6, 'intensity': 0.0742626}, {'element': 'Fe', 'Z': 26, 'transition': 'Lb1', 'energy_eV': 717.9, 'intensity': 0.925737}, {'element': 'Fe', 'Z': 26, 'transition': 'Ll', 'energy_eV': 615.5, 'intensity': 0.0990365}, {'element': 'Fe', 'Z': 26, 'transition': 'La2', 'energy_eV': 704.8, 'intensity': 0.0892847}, {'element': 'Fe', 'Z': 26, 'transition': 'La1', 'energy_eV': 704.8, 'intensity': 0.811679}, {'element': 'Co', 'Z': 27, 'transition': 'Lb4', 'energy_eV': 866.2, 'intensity': 0.413833}, {'element': 'Co', 'Z': 27, 'transition': 'Lb3', 'energy_eV': 865.2, 'intensity': 0.586166}, {'element': 'Co', 'Z': 27, 'transition': 'Ln', 'energy_eV': 692.2, 'intensity': 0.0725197}, {'element': 'Co', 'Z': 27, 'transition': 'Lb1', 'energy_eV': 790.2, 'intensity': 0.92748}, {'element': 'Co', 'Z': 27, 'transition': 'Ll', 'energy_eV': 677.1, 'intensity': 0.0853896}, {'element': 'Co', 'Z': 27, 'transition': 'La2', 'energy_eV': 775.1, 'intensity': 0.0906371}, {'element': 'Co', 'Z': 27, 'transition': 'La1', 'energy_eV': 775.1, 'intensity': 0.823973}, {'element': 'Ni', 'Z': 28, 'transition': 'Lb4', 'energy_eV': 940.6, 'intensity': 0.413833}, {'element': 'Ni', 'Z': 28, 'transition': 'Lb3', 'energy_eV': 942.4, 'intensity': 0.586166}, {'element': 'Ni', 'Z': 28, 'transition': 'Ln', 'energy_eV': 759.2, 'intensity': 0.0685204}, {'element': 'Ni', 'Z': 28, 'transition': 'Lb1', 'energy_eV': 866.0, 'intensity': 0.93148}, {'element': 'Ni', 'Z': 28, 'transition': 'Ll', 'energy_eV': 741.9, 'intensity': 0.0750272}, {'element': 'Ni', 'Z': 28, 'transition': 'La2', 'energy_eV': 848.7, 'intensity': 0.091664}, {'element': 'Ni', 'Z': 28, 'transition': 'La1', 'energy_eV': 848.7, 'intensity': 0.833309}, {'element': 'Cu', 'Z': 29, 'transition': 'Lb4', 'energy_eV': 1019.4, 'intensity': 0.413833}, {'element': 'Cu', 'Z': 29, 'transition': 'Lb3', 'energy_eV': 1021.6, 'intensity': 0.586166}, {'element': 'Cu', 'Z': 29, 'transition': 'Ln', 'energy_eV': 829.8, 'intensity': 0.06619}, {'element': 'Cu', 'Z': 29, 'transition': 'Lb1', 'energy_eV': 947.3, 'intensity': 0.93381}, {'element': 'Cu', 'Z': 29, 'transition': 'Ll', 'energy_eV': 810.2, 'intensity': 0.0673403}, {'element': 'Cu', 'Z': 29, 'transition': 'La2', 'energy_eV': 927.7, 'intensity': 0.0924257}, {'element': 'Cu', 'Z': 29, 'transition': 'La1', 'energy_eV': 927.7, 'intensity': 0.840234}, {'element': 'Zn', 'Z': 30, 'transition': 'Lb4', 'energy_eV': 1104.8, 'intensity': 0.382241}, {'element': 'Zn', 'Z': 30, 'transition': 'Lb3', 'energy_eV': 1107.6, 'intensity': 0.541418}, {'element': 'Zn', 'Z': 30, 'transition': 'Lg2', 'energy_eV': 1195.2, 'intensity': 0.07634}, {'element': 'Zn', 'Z': 30, 'transition': 'Ln', 'energy_eV': 905.1, 'intensity': 0.0639247}, {'element': 'Zn', 'Z': 30, 'transition': 'Lb1', 'energy_eV': 1034.7, 'intensity': 0.936075}, {'element': 'Zn', 'Z': 30, 'transition': 'Ll', 'energy_eV': 882.0, 'intensity': 0.0617207}, {'element': 'Zn', 'Z': 30, 'transition': 'La2', 'energy_eV': 1011.6, 'intensity': 0.0929826}, {'element': 'Zn', 'Z': 30, 'transition': 'La1', 'energy_eV': 1011.7, 'intensity': 0.845297}, {'element': 'Ga', 'Z': 31, 'transition': 'Lb4', 'energy_eV': 1195.5, 'intensity': 0.349728}, {'element': 'Ga', 'Z': 31, 'transition': 'Lb3', 'energy_eV': 1199.0, 'intensity': 0.495366}, {'element': 'Ga', 'Z': 31, 'transition': 'Lg2', 'energy_eV': 1297.0, 'intensity': 0.0705896}, {'element': 'Ga', 'Z': 31, 'transition': 'Lg3', 'energy_eV': 1297.0, 'intensity': 0.0843162}, {'element': 'Ga', 'Z': 31, 'transition': 'Ln', 'energy_eV': 983.69, 'intensity': 0.0617242}, {'element': 'Ga', 'Z': 31, 'transition': 'Lb1', 'energy_eV': 1124.5, 'intensity': 0.938276}, {'element': 'Ga', 'Z': 31, 'transition': 'Ll', 'energy_eV': 956.89, 'intensity': 0.0576051}, {'element': 'Ga', 'Z': 31, 'transition': 'La2', 'energy_eV': 1097.7, 'intensity': 0.0933905}, {'element': 'Ga', 'Z': 31, 'transition': 'La1', 'energy_eV': 1097.7, 'intensity': 0.849004}, {'element': 'Ge', 'Z': 32, 'transition': 'Lb4', 'energy_eV': 1289.7, 'intensity': 0.348501}, {'element': 'Ge', 'Z': 32, 'transition': 'Lb3', 'energy_eV': 1293.8, 'intensity': 0.493627}, {'element': 'Ge', 'Z': 32, 'transition': 'Lg2', 'energy_eV': 1411.6, 'intensity': 0.0710823}, {'element': 'Ge', 'Z': 32, 'transition': 'Lg3', 'energy_eV': 1411.6, 'intensity': 0.08679}, {'element': 'Ge', 'Z': 32, 'transition': 'Ln', 'energy_eV': 1068.0, 'intensity': 0.0595885}, {'element': 'Ge', 'Z': 32, 'transition': 'Lb1', 'energy_eV': 1218.3, 'intensity': 0.940412}, {'element': 'Ge', 'Z': 32, 'transition': 'Ll', 'energy_eV': 1036.9, 'intensity': 0.0544969}, {'element': 'Ge', 'Z': 32, 'transition': 'La2', 'energy_eV': 1187.2, 'intensity': 0.0936926}, {'element': 'Ge', 'Z': 32, 'transition': 'La1', 'energy_eV': 1187.8, 'intensity': 0.851751}, {'element': 'Ge', 'Z': 32, 'transition': 'Lb6', 'energy_eV': 1212.0, 'intensity': 5.96223e-05}, {'element': 'As', 'Z': 33, 'transition': 'Lb4', 'energy_eV': 1380.8, 'intensity': 0.34796}, {'element': 'As', 'Z': 33, 'transition': 'Lb3', 'energy_eV': 1385.8, 'intensity': 0.492862}, {'element': 'As', 'Z': 33, 'transition': 'Lg2', 'energy_eV': 1524.0, 'intensity': 0.0717114}, {'element': 'As', 'Z': 33, 'transition': 'Lg3', 'energy_eV': 1524.0, 'intensity': 0.0874663}, {'element': 'As', 'Z': 33, 'transition': 'Ln', 'energy_eV': 1154.4, 'intensity': 0.0575174}, {'element': 'As', 'Z': 33, 'transition': 'Lb1', 'energy_eV': 1317.4, 'intensity': 0.942483}, {'element': 'As', 'Z': 33, 'transition': 'Ll', 'energy_eV': 1118.9, 'intensity': 0.0519903}, {'element': 'As', 'Z': 33, 'transition': 'La2', 'energy_eV': 1281.9, 'intensity': 0.0939148}, {'element': 'As', 'Z': 33, 'transition': 'La1', 'energy_eV': 1281.9, 'intensity': 0.85377}, {'element': 'As', 'Z': 33, 'transition': 'Lb6', 'energy_eV': 1315.6, 'intensity': 0.000324433}, {'element': 'Se', 'Z': 34, 'transition': 'Lb4', 'energy_eV': 1485.5, 'intensity': 0.347407}, {'element': 'Se', 'Z': 34, 'transition': 'Lb3', 'energy_eV': 1491.3, 'intensity': 0.492079}, {'element': 'Se', 'Z': 34, 'transition': 'Lg2', 'energy_eV': 1649.0, 'intensity': 0.0723355}, {'element': 'Se', 'Z': 34, 'transition': 'Lg3', 'energy_eV': 1649.0, 'intensity': 0.0881785}, {'element': 'Se', 'Z': 34, 'transition': 'Ln', 'energy_eV': 1244.7, 'intensity': 0.0555107}, {'element': 'Se', 'Z': 34, 'transition': 'Lb1', 'energy_eV': 1418.8, 'intensity': 0.944489}, {'element': 'Se', 'Z': 34, 'transition': 'Ll', 'energy_eV': 1204.3, 'intensity': 0.0497968}, {'element': 'Se', 'Z': 34, 'transition': 'La2', 'energy_eV': 1378.4, 'intensity': 0.0941058}, {'element': 'Se', 'Z': 34, 'transition': 'La1', 'energy_eV': 1379.3, 'intensity': 0.855507}, {'element': 'Se', 'Z': 34, 'transition': 'Lb6', 'energy_eV': 1421.9, 'intensity': 0.0005903}, {'element': 'Br', 'Z': 35, 'transition': 'Lb4', 'energy_eV': 1593.0, 'intensity': 0.346842}, {'element': 'Br', 'Z': 35, 'transition': 'Lb3', 'energy_eV': 1600.0, 'intensity': 0.491277}, {'element': 'Br', 'Z': 35, 'transition': 'Lg2', 'energy_eV': 1779.0, 'intensity': 0.0729547}, {'element': 'Br', 'Z': 35, 'transition': 'Lg3', 'energy_eV': 1779.0, 'intensity': 0.0889264}, {'element': 'Br', 'Z': 35, 'transition': 'Ln', 'energy_eV': 1339.0, 'intensity': 0.0535683}, {'element': 'Br', 'Z': 35, 'transition': 'Lb1', 'energy_eV': 1526.0, 'intensity': 0.946432}, {'element': 'Br', 'Z': 35, 'transition': 'Ll', 'energy_eV': 1293.0, 'intensity': 0.0477276}, {'element': 'Br', 'Z': 35, 'transition': 'La2', 'energy_eV': 1480.0, 'intensity': 0.0942844}, {'element': 'Br', 'Z': 35, 'transition': 'La1', 'energy_eV': 1481.0, 'intensity': 0.857131}, {'element': 'Br', 'Z': 35, 'transition': 'Lb6', 'energy_eV': 1523.0, 'intensity': 0.000857131}, {'element': 'Kr', 'Z': 36, 'transition': 'Lb4', 'energy_eV': 1698.8, 'intensity': 0.346263}, {'element': 'Kr', 'Z': 36, 'transition': 'Lb3', 'energy_eV': 1706.6, 'intensity': 0.490458}, {'element': 'Kr', 'Z': 36, 'transition': 'Lg2', 'energy_eV': 1906.9, 'intensity': 0.0735687}, {'element': 'Kr', 'Z': 36, 'transition': 'Lg3', 'energy_eV': 1906.9, 'intensity': 0.0897098}, {'element': 'Kr', 'Z': 36, 'transition': 'Ln', 'energy_eV': 1438.1, 'intensity': 0.0516897}, {'element': 'Kr', 'Z': 36, 'transition': 'Lb1', 'energy_eV': 1635.9, 'intensity': 0.94831}, {'element': 'Kr', 'Z': 36, 'transition': 'Ll', 'energy_eV': 1385.6, 'intensity': 0.0457022}, {'element': 'Kr', 'Z': 36, 'transition': 'La2', 'energy_eV': 1583.4, 'intensity': 0.0944586}, {'element': 'Kr', 'Z': 36, 'transition': 'La1', 'energy_eV': 1584.6, 'intensity': 0.858714}, {'element': 'Kr', 'Z': 36, 'transition': 'Lb6', 'energy_eV': 1650.9, 'intensity': 0.00112492}, {'element': 'Rb', 'Z': 37, 'transition': 'Lb4', 'energy_eV': 1816.3, 'intensity': 0.345673}, {'element': 'Rb', 'Z': 37, 'transition': 'Lb3', 'energy_eV': 1825.9, 'intensity': 0.489621}, {'element': 'Rb', 'Z': 37, 'transition': 'Lg2', 'energy_eV': 2048.7, 'intensity': 0.0741776}, {'element': 'Rb', 'Z': 37, 'transition': 'Lg3', 'energy_eV': 2049.7, 'intensity': 0.0905282}, {'element': 'Rb', 'Z': 37, 'transition': 'Ln', 'energy_eV': 1537.3, 'intensity': 0.0498747}, {'element': 'Rb', 'Z': 37, 'transition': 'Lb1', 'energy_eV': 1751.0, 'intensity': 0.950125}, {'element': 'Rb', 'Z': 37, 'transition': 'Ll', 'energy_eV': 1477.3, 'intensity': 0.0437611}, {'element': 'Rb', 'Z': 37, 'transition': 'La2', 'energy_eV': 1691.0, 'intensity': 0.0946243}, {'element': 'Rb', 'Z': 37, 'transition': 'La1', 'energy_eV': 1692.0, 'intensity': 0.860221}, {'element': 'Rb', 'Z': 37, 'transition': 'Lb6', 'energy_eV': 1773.5, 'intensity': 0.00139356}, {'element': 'Sr', 'Z': 38, 'transition': 'Lb4', 'energy_eV': 1935.7, 'intensity': 0.34507}, {'element': 'Sr', 'Z': 38, 'transition': 'Lb3', 'energy_eV': 1946.0, 'intensity': 0.488767}, {'element': 'Sr', 'Z': 38, 'transition': 'Lg2', 'energy_eV': 2194.4, 'intensity': 0.0747814}, {'element': 'Sr', 'Z': 38, 'transition': 'Lg3', 'energy_eV': 2195.9, 'intensity': 0.0913816}, {'element': 'Sr', 'Z': 38, 'transition': 'Ln', 'energy_eV': 1648.3, 'intensity': 0.0481229}, {'element': 'Sr', 'Z': 38, 'transition': 'Lb1', 'energy_eV': 1871.0, 'intensity': 0.951877}, {'element': 'Sr', 'Z': 38, 'transition': 'Ll', 'energy_eV': 1581.3, 'intensity': 0.0420501}, {'element': 'Sr', 'Z': 38, 'transition': 'La2', 'energy_eV': 1804.0, 'intensity': 0.0947672}, {'element': 'Sr', 'Z': 38, 'transition': 'La1', 'energy_eV': 1805.8, 'intensity': 0.86152}, {'element': 'Sr', 'Z': 38, 'transition': 'Lb6', 'energy_eV': 1901.1, 'intensity': 0.00166273}, {'element': 'Sr', 'Z': 38, 'transition': 'Mz', 'energy_eV': 114.4, 'intensity': 1.0}, {'element': 'Y', 'Z': 39, 'transition': 'Lb4', 'energy_eV': 2062.4, 'intensity': 0.344455}, {'element': 'Y', 'Z': 39, 'transition': 'Lb3', 'energy_eV': 2074.2, 'intensity': 0.487896}, {'element': 'Y', 'Z': 39, 'transition': 'Lg2', 'energy_eV': 2348.6, 'intensity': 0.0753799}, {'element': 'Y', 'Z': 39, 'transition': 'Lg3', 'energy_eV': 2349.9, 'intensity': 0.0922695}, {'element': 'Y', 'Z': 39, 'transition': 'Ln', 'energy_eV': 1764.0, 'intensity': 0.0464339}, {'element': 'Y', 'Z': 39, 'transition': 'Lb1', 'energy_eV': 1998.3, 'intensity': 0.953566}, {'element': 'Y', 'Z': 39, 'transition': 'Ll', 'energy_eV': 1688.0, 'intensity': 0.0408459}, {'element': 'Y', 'Z': 39, 'transition': 'La2', 'energy_eV': 1922.3, 'intensity': 0.0948599}, {'element': 'Y', 'Z': 39, 'transition': 'La1', 'energy_eV': 1924.2, 'intensity': 0.862363}, {'element': 'Y', 'Z': 39, 'transition': 'Lb6', 'energy_eV': 2036.2, 'intensity': 0.00193169}, {'element': 'Y', 'Z': 39, 'transition': 'Mz', 'energy_eV': 133.3, 'intensity': 1.0}, {'element': 'Zr', 'Z': 40, 'transition': 'Lb4', 'energy_eV': 2188.5, 'intensity': 0.343827}, {'element': 'Zr', 'Z': 40, 'transition': 'Lb3', 'energy_eV': 2202.2, 'intensity': 0.487008}, {'element': 'Zr', 'Z': 40, 'transition': 'Lg2', 'energy_eV': 2503.5, 'intensity': 0.0759732}, {'element': 'Zr', 'Z': 40, 'transition': 'Lg3', 'energy_eV': 2504.9, 'intensity': 0.0931916}, {'element': 'Zr', 'Z': 40, 'transition': 'Ln', 'energy_eV': 1876.7, 'intensity': 0.0448073}, {'element': 'Zr', 'Z': 40, 'transition': 'Lb1', 'energy_eV': 2125.9, 'intensity': 0.955193}, {'element': 'Zr', 'Z': 40, 'transition': 'Ll', 'energy_eV': 1792.7, 'intensity': 0.0396873}, {'element': 'Zr', 'Z': 40, 'transition': 'La2', 'energy_eV': 2041.9, 'intensity': 0.0957923}, {'element': 'Zr', 'Z': 40, 'transition': 'La1', 'energy_eV': 2044.2, 'intensity': 0.862321}, {'element': 'Zr', 'Z': 40, 'transition': 'Lb6', 'energy_eV': 2172.4, 'intensity': 0.00219892}, {'element': 'Zr', 'Z': 40, 'transition': 'Mz', 'energy_eV': 152.6, 'intensity': 1.0}, {'element': 'Nb', 'Z': 41, 'transition': 'Lb4', 'energy_eV': 2321.9, 'intensity': 0.343188}, {'element': 'Nb', 'Z': 41, 'transition': 'Lb3', 'energy_eV': 2337.4, 'intensity': 0.486103}, {'element': 'Nb', 'Z': 41, 'transition': 'Lg2', 'energy_eV': 2665.4, 'intensity': 0.0765612}, {'element': 'Nb', 'Z': 41, 'transition': 'Lg3', 'energy_eV': 2667.2, 'intensity': 0.0941478}, {'element': 'Nb', 'Z': 41, 'transition': 'Ln', 'energy_eV': 1998.4, 'intensity': 0.0432426}, {'element': 'Nb', 'Z': 41, 'transition': 'Lb1', 'energy_eV': 2260.0, 'intensity': 0.956757}, {'element': 'Nb', 'Z': 41, 'transition': 'Ll', 'energy_eV': 1904.4, 'intensity': 0.0389731}, {'element': 'Nb', 'Z': 41, 'transition': 'La2', 'energy_eV': 2166.0, 'intensity': 0.0958479}, {'element': 'Nb', 'Z': 41, 'transition': 'La1', 'energy_eV': 2168.7, 'intensity': 0.862712}, {'element': 'Nb', 'Z': 41, 'transition': 'Lb6', 'energy_eV': 2314.6, 'intensity': 0.00246735}, {'element': 'Nb', 'Z': 41, 'transition': 'Mz', 'energy_eV': 172.4, 'intensity': 1.0}, {'element': 'Mo', 'Z': 42, 'transition': 'Lb4', 'energy_eV': 2454.4, 'intensity': 0.341952}, {'element': 'Mo', 'Z': 42, 'transition': 'Lb3', 'energy_eV': 2472.0, 'intensity': 0.485613}, {'element': 'Mo', 'Z': 42, 'transition': 'Lg2', 'energy_eV': 2828.4, 'intensity': 0.0772124}, {'element': 'Mo', 'Z': 42, 'transition': 'Lg3', 'energy_eV': 2830.5, 'intensity': 0.0952223}, {'element': 'Mo', 'Z': 42, 'transition': 'Ln', 'energy_eV': 2118.7, 'intensity': 0.0417393}, {'element': 'Mo', 'Z': 42, 'transition': 'Lb1', 'energy_eV': 2393.9, 'intensity': 0.958261}, {'element': 'Mo', 'Z': 42, 'transition': 'Ll', 'energy_eV': 2013.7, 'intensity': 0.0383151}, {'element': 'Mo', 'Z': 42, 'transition': 'La2', 'energy_eV': 2288.9, 'intensity': 0.0958978}, {'element': 'Mo', 'Z': 42, 'transition': 'La1', 'energy_eV': 2292.1, 'intensity': 0.863051}, {'element': 'Mo', 'Z': 42, 'transition': 'Lb6', 'energy_eV': 2456.8, 'intensity': 0.00273587}, {'element': 'Mo', 'Z': 42, 'transition': 'Mz', 'energy_eV': 193.5, 'intensity': 1.0}, {'element': 'Tc', 'Z': 43, 'transition': 'Lb4', 'energy_eV': 2595.4, 'intensity': 0.336978}, {'element': 'Tc', 'Z': 43, 'transition': 'Lb3', 'energy_eV': 2625.3, 'intensity': 0.487847}, {'element': 'Tc', 'Z': 43, 'transition': 'Ln', 'energy_eV': 2249.0, 'intensity': 0.0402969}, {'element': 'Tc', 'Z': 43, 'transition': 'Lb1', 'energy_eV': 2535.4, 'intensity': 0.959703}, {'element': 'Tc', 'Z': 43, 'transition': 'Ll', 'energy_eV': 2133.0, 'intensity': 0.0377123}, {'element': 'Tc', 'Z': 43, 'transition': 'La2', 'energy_eV': 2419.4, 'intensity': 0.0959422}, {'element': 'Tc', 'Z': 43, 'transition': 'La1', 'energy_eV': 2423.1, 'intensity': 0.863341}, {'element': 'Tc', 'Z': 43, 'transition': 'Lb6', 'energy_eV': 2607.5, 'intensity': 0.00300443}, {'element': 'Tc', 'Z': 43, 'transition': 'Mz', 'energy_eV': 215.3, 'intensity': 1.0}, {'element': 'Ru', 'Z': 44, 'transition': 'Lb4', 'energy_eV': 2740.7, 'intensity': 0.332221}, {'element': 'Ru', 'Z': 44, 'transition': 'Lb3', 'energy_eV': 2762.5, 'intensity': 0.489877}, {'element': 'Ru', 'Z': 44, 'transition': 'Ln', 'energy_eV': 2380.9, 'intensity': 0.0389147}, {'element': 'Ru', 'Z': 44, 'transition': 'Lb1', 'energy_eV': 2682.8, 'intensity': 0.961085}, {'element': 'Ru', 'Z': 44, 'transition': 'Ll', 'energy_eV': 2251.9, 'intensity': 0.0371637}, {'element': 'Ru', 'Z': 44, 'transition': 'La2', 'energy_eV': 2553.8, 'intensity': 0.0959813}, {'element': 'Ru', 'Z': 44, 'transition': 'La1', 'energy_eV': 2558.0, 'intensity': 0.863582}, {'element': 'Ru', 'Z': 44, 'transition': 'Lb6', 'energy_eV': 2763.0, 'intensity': 0.00327298}, {'element': 'Ru', 'Z': 44, 'transition': 'Mz', 'energy_eV': 237.9, 'intensity': 1.0}, {'element': 'Rh', 'Z': 45, 'transition': 'Lb4', 'energy_eV': 2890.7, 'intensity': 0.327692}, {'element': 'Rh', 'Z': 45, 'transition': 'Lb3', 'energy_eV': 2915.5, 'intensity': 0.491698}, {'element': 'Rh', 'Z': 45, 'transition': 'Ln', 'energy_eV': 2517.9, 'intensity': 0.0348076}, {'element': 'Rh', 'Z': 45, 'transition': 'Lb1', 'energy_eV': 2834.1, 'intensity': 0.89112}, {'element': 'Rh', 'Z': 45, 'transition': 'Ll', 'energy_eV': 2375.9, 'intensity': 0.0336554}, {'element': 'Rh', 'Z': 45, 'transition': 'La2', 'energy_eV': 2692.1, 'intensity': 0.0881263}, {'element': 'Rh', 'Z': 45, 'transition': 'La1', 'energy_eV': 2696.8, 'intensity': 0.792807}, {'element': 'Rh', 'Z': 45, 'transition': 'Lb6', 'energy_eV': 2922.6, 'intensity': 0.00325051}, {'element': 'Rh', 'Z': 45, 'transition': 'Mg', 'energy_eV': 494.5, 'intensity': 1.0}, {'element': 'Rh', 'Z': 45, 'transition': 'Mz', 'energy_eV': 261.4, 'intensity': 1.0}, {'element': 'Pd', 'Z': 46, 'transition': 'Ln', 'energy_eV': 2658.4, 'intensity': 0.0333907}, {'element': 'Pd', 'Z': 46, 'transition': 'Lb1', 'energy_eV': 2989.5, 'intensity': 0.885741}, {'element': 'Pd', 'Z': 46, 'transition': 'Ll', 'energy_eV': 2501.4, 'intensity': 0.0328635}, {'element': 'Pd', 'Z': 46, 'transition': 'La2', 'energy_eV': 2832.5, 'intensity': 0.0871326}, {'element': 'Pd', 'Z': 46, 'transition': 'La1', 'energy_eV': 2837.8, 'intensity': 0.783768}, {'element': 'Pd', 'Z': 46, 'transition': 'Mg', 'energy_eV': 530.3, 'intensity': 1.0}, {'element': 'Pd', 'Z': 46, 'transition': 'Mz', 'energy_eV': 284.8, 'intensity': 1.0}, {'element': 'Ag', 'Z': 47, 'transition': 'Ln', 'energy_eV': 2805.0, 'intensity': 0.0320642}, {'element': 'Ag', 'Z': 47, 'transition': 'Ll', 'energy_eV': 2632.0, 'intensity': 0.0321671}, {'element': 'Ag', 'Z': 47, 'transition': 'La2', 'energy_eV': 2977.0, 'intensity': 0.086242}, {'element': 'Ag', 'Z': 47, 'transition': 'La1', 'energy_eV': 2982.7, 'intensity': 0.775657}, {'element': 'Ag', 'Z': 47, 'transition': 'Mg', 'energy_eV': 569.0, 'intensity': 1.0}, {'element': 'Ag', 'Z': 47, 'transition': 'Mz', 'energy_eV': 310.3, 'intensity': 1.0}, {'element': 'Cd', 'Z': 48, 'transition': 'Ln', 'energy_eV': 2955.0, 'intensity': 0.0308225}, {'element': 'Cd', 'Z': 48, 'transition': 'Ll', 'energy_eV': 2766.0, 'intensity': 0.0315593}, {'element': 'Cd', 'Z': 48, 'transition': 'Mg', 'energy_eV': 607.7, 'intensity': 1.0}, {'element': 'Cd', 'Z': 48, 'transition': 'Mz', 'energy_eV': 348.0, 'intensity': 1.0}, {'element': 'In', 'Z': 49, 'transition': 'Ll', 'energy_eV': 2902.8, 'intensity': 0.0310338}, {'element': 'In', 'Z': 49, 'transition': 'Mg', 'energy_eV': 648.4, 'intensity': 1.0}, {'element': 'In', 'Z': 49, 'transition': 'Mz', 'energy_eV': 377.9, 'intensity': 1.0}, {'element': 'Sn', 'Z': 50, 'transition': 'Mg', 'energy_eV': 690.7, 'intensity': 1.0}, {'element': 'Sn', 'Z': 50, 'transition': 'Mz', 'energy_eV': 409.6, 'intensity': 1.0}, {'element': 'Sb', 'Z': 51, 'transition': 'Mg', 'energy_eV': 734.3, 'intensity': 1.0}, {'element': 'Sb', 'Z': 51, 'transition': 'Mz', 'energy_eV': 441.9, 'intensity': 0.00293255}, {'element': 'Sb', 'Z': 51, 'transition': 'Mb', 'energy_eV': 537.5, 'intensity': 0.997068}, {'element': 'Sb', 'Z': 51, 'transition': 'Ma', 'energy_eV': 528.2, 'intensity': 1.0}, {'element': 'Te', 'Z': 52, 'transition': 'Mg', 'energy_eV': 780.4, 'intensity': 1.0}, {'element': 'Te', 'Z': 52, 'transition': 'Mz', 'energy_eV': 480.1, 'intensity': 0.00293255}, {'element': 'Te', 'Z': 52, 'transition': 'Mb', 'energy_eV': 583.4, 'intensity': 0.997068}, {'element': 'Te', 'Z': 52, 'transition': 'Ma', 'energy_eV': 573.0, 'intensity': 1.0}, {'element': 'I', 'Z': 53, 'transition': 'Mg', 'energy_eV': 826.1, 'intensity': 1.0}, {'element': 'I', 'Z': 53, 'transition': 'Mz', 'energy_eV': 507.8, 'intensity': 0.00293255}, {'element': 'I', 'Z': 53, 'transition': 'Mb', 'energy_eV': 630.8, 'intensity': 0.997068}, {'element': 'I', 'Z': 53, 'transition': 'Ma', 'energy_eV': 619.3, 'intensity': 1.0}, {'element': 'Xe', 'Z': 54, 'transition': 'Mg', 'energy_eV': 873.1, 'intensity': 1.0}, {'element': 'Xe', 'Z': 54, 'transition': 'Mz', 'energy_eV': 542.3, 'intensity': 0.00293255}, {'element': 'Xe', 'Z': 54, 'transition': 'Mb', 'energy_eV': 689.0, 'intensity': 0.997068}, {'element': 'Xe', 'Z': 54, 'transition': 'Ma', 'energy_eV': 676.4, 'intensity': 1.0}, {'element': 'Cs', 'Z': 55, 'transition': 'Mg', 'energy_eV': 925.5, 'intensity': 1.0}, {'element': 'Cs', 'Z': 55, 'transition': 'Mz', 'energy_eV': 568.1, 'intensity': 0.00293255}, {'element': 'Cs', 'Z': 55, 'transition': 'Mb', 'energy_eV': 740.5, 'intensity': 0.997068}, {'element': 'Cs', 'Z': 55, 'transition': 'Ma', 'energy_eV': 726.6, 'intensity': 1.0}, {'element': 'Ba', 'Z': 56, 'transition': 'Mg', 'energy_eV': 973.1, 'intensity': 1.0}, {'element': 'Ba', 'Z': 56, 'transition': 'Mz', 'energy_eV': 603.7, 'intensity': 0.00293255}, {'element': 'Ba', 'Z': 56, 'transition': 'Mb', 'energy_eV': 795.7, 'intensity': 0.997068}, {'element': 'Ba', 'Z': 56, 'transition': 'Ma', 'energy_eV': 780.5, 'intensity': 1.0}, {'element': 'La', 'Z': 57, 'transition': 'Mg', 'energy_eV': 1025.5, 'intensity': 1.0}, {'element': 'La', 'Z': 57, 'transition': 'Mz', 'energy_eV': 647.2, 'intensity': 0.00293255}, {'element': 'La', 'Z': 57, 'transition': 'Mb', 'energy_eV': 853.0, 'intensity': 0.997068}, {'element': 'La', 'Z': 57, 'transition': 'Ma', 'energy_eV': 836.0, 'intensity': 1.0}, {'element': 'Ce', 'Z': 58, 'transition': 'Mg', 'energy_eV': 1078.0, 'intensity': 1.0}, {'element': 'Ce', 'Z': 58, 'transition': 'Mz', 'energy_eV': 679.2, 'intensity': 0.00293255}, {'element': 'Ce', 'Z': 58, 'transition': 'Mb', 'energy_eV': 902.3, 'intensity': 0.997068}, {'element': 'Ce', 'Z': 58, 'transition': 'Ma', 'energy_eV': 883.7, 'intensity': 1.0}, {'element': 'Pr', 'Z': 59, 'transition': 'Mg', 'energy_eV': 1126.9, 'intensity': 1.0}, {'element': 'Pr', 'Z': 59, 'transition': 'Mz', 'energy_eV': 712.0, 'intensity': 0.00293255}, {'element': 'Pr', 'Z': 59, 'transition': 'Mb', 'energy_eV': 946.3, 'intensity': 0.997068}, {'element': 'Pr', 'Z': 59, 'transition': 'Ma', 'energy_eV': 926.8, 'intensity': 1.0}, {'element': 'Nd', 'Z': 60, 'transition': 'Mg', 'energy_eV': 1176.5, 'intensity': 1.0}, {'element': 'Nd', 'Z': 60, 'transition': 'Mz', 'energy_eV': 760.0, 'intensity': 0.00293255}, {'element': 'Nd', 'Z': 60, 'transition': 'Mb', 'energy_eV': 1001.8, 'intensity': 0.997068}, {'element': 'Nd', 'Z': 60, 'transition': 'Ma', 'energy_eV': 978.9, 'intensity': 1.0}, {'element': 'Pm', 'Z': 61, 'transition': 'Mg', 'energy_eV': 1237.0, 'intensity': 1.0}, {'element': 'Pm', 'Z': 61, 'transition': 'Mz', 'energy_eV': 810.0, 'intensity': 0.00293255}, {'element': 'Pm', 'Z': 61, 'transition': 'Mb', 'energy_eV': 1048.0, 'intensity': 0.997068}, {'element': 'Pm', 'Z': 61, 'transition': 'Ma', 'energy_eV': 1023.0, 'intensity': 1.0}, {'element': 'Sm', 'Z': 62, 'transition': 'Mg', 'energy_eV': 1290.8, 'intensity': 1.0}, {'element': 'Sm', 'Z': 62, 'transition': 'Mz', 'energy_eV': 845.3, 'intensity': 0.00293255}, {'element': 'Sm', 'Z': 62, 'transition': 'Mb', 'energy_eV': 1105.7, 'intensity': 0.997068}, {'element': 'Sm', 'Z': 62, 'transition': 'Ma', 'energy_eV': 1078.2, 'intensity': 1.0}, {'element': 'Eu', 'Z': 63, 'transition': 'Mg', 'energy_eV': 1353.3, 'intensity': 1.0}, {'element': 'Eu', 'Z': 63, 'transition': 'Mz', 'energy_eV': 874.6, 'intensity': 0.00293255}, {'element': 'Eu', 'Z': 63, 'transition': 'Mb', 'energy_eV': 1152.6, 'intensity': 0.997068}, {'element': 'Eu', 'Z': 63, 'transition': 'Ma', 'energy_eV': 1121.5, 'intensity': 1.0}, {'element': 'Gd', 'Z': 64, 'transition': 'Mg', 'energy_eV': 1401.4, 'intensity': 1.0}, {'element': 'Gd', 'Z': 64, 'transition': 'Mz', 'energy_eV': 935.9, 'intensity': 0.00293255}, {'element': 'Gd', 'Z': 64, 'transition': 'Mb', 'energy_eV': 1213.3, 'intensity': 0.997068}, {'element': 'Gd', 'Z': 64, 'transition': 'Ma', 'energy_eV': 1181.0, 'intensity': 1.0}, {'element': 'Tb', 'Z': 65, 'transition': 'Mg', 'energy_eV': 1460.5, 'intensity': 1.0}, {'element': 'Tb', 'Z': 65, 'transition': 'Mz', 'energy_eV': 954.5, 'intensity': 0.00293255}, {'element': 'Tb', 'Z': 65, 'transition': 'Mb', 'energy_eV': 1269.2, 'intensity': 0.997068}, {'element': 'Tb', 'Z': 65, 'transition': 'Ma', 'energy_eV': 1233.4, 'intensity': 1.0}, {'element': 'Dy', 'Z': 66, 'transition': 'Mg', 'energy_eV': 1522.4, 'intensity': 1.0}, {'element': 'Dy', 'Z': 66, 'transition': 'Mz', 'energy_eV': 999.5, 'intensity': 0.00293255}, {'element': 'Dy', 'Z': 66, 'transition': 'Mb', 'energy_eV': 1325.0, 'intensity': 0.997068}, {'element': 'Dy', 'Z': 66, 'transition': 'Ma', 'energy_eV': 1284.0, 'intensity': 1.0}, {'element': 'Ho', 'Z': 67, 'transition': 'Mg', 'energy_eV': 1581.0, 'intensity': 1.0}, {'element': 'Ho', 'Z': 67, 'transition': 'Mz', 'energy_eV': 1048.5, 'intensity': 0.00293255}, {'element': 'Ho', 'Z': 67, 'transition': 'Mb', 'energy_eV': 1383.4, 'intensity': 0.997068}, {'element': 'Ho', 'Z': 67, 'transition': 'Ma', 'energy_eV': 1342.4, 'intensity': 1.0}, {'element': 'Er', 'Z': 68, 'transition': 'Mg', 'energy_eV': 1644.4, 'intensity': 1.0}, {'element': 'Er', 'Z': 68, 'transition': 'Mz', 'energy_eV': 1086.8, 'intensity': 0.00293255}, {'element': 'Er', 'Z': 68, 'transition': 'Mb', 'energy_eV': 1448.3, 'intensity': 0.997068}, {'element': 'Er', 'Z': 68, 'transition': 'Ma', 'energy_eV': 1404.3, 'intensity': 1.0}, {'element': 'Tm', 'Z': 69, 'transition': 'Mg', 'energy_eV': 1709.5, 'intensity': 1.0}, {'element': 'Tm', 'Z': 69, 'transition': 'Mz', 'energy_eV': 1129.1, 'intensity': 0.00293255}, {'element': 'Tm', 'Z': 69, 'transition': 'Mb', 'energy_eV': 1510.4, 'intensity': 0.997068}, {'element': 'Tm', 'Z': 69, 'transition': 'Ma', 'energy_eV': 1463.4, 'intensity': 1.0}, {'element': 'Yb', 'Z': 70, 'transition': 'Mg', 'energy_eV': 1767.6, 'intensity': 1.0}, {'element': 'Yb', 'Z': 70, 'transition': 'Mz', 'energy_eV': 1187.3, 'intensity': 0.00293255}, {'element': 'Yb', 'Z': 70, 'transition': 'Mb', 'energy_eV': 1573.5, 'intensity': 0.997068}, {'element': 'Yb', 'Z': 70, 'transition': 'Ma', 'energy_eV': 1525.5, 'intensity': 1.0}, {'element': 'Lu', 'Z': 71, 'transition': 'Mg', 'energy_eV': 1827.7, 'intensity': 1.0}, {'element': 'Lu', 'Z': 71, 'transition': 'Mz', 'energy_eV': 1226.6, 'intensity': 0.00293255}, {'element': 'Lu', 'Z': 71, 'transition': 'Mb', 'energy_eV': 1630.1, 'intensity': 0.997068}, {'element': 'Lu', 'Z': 71, 'transition': 'Ma', 'energy_eV': 1580.1, 'intensity': 1.0}, {'element': 'Hf', 'Z': 72, 'transition': 'Mg', 'energy_eV': 1895.5, 'intensity': 1.0}, {'element': 'Hf', 'Z': 72, 'transition': 'Mz', 'energy_eV': 1277.8, 'intensity': 0.00293255}, {'element': 'Hf', 'Z': 72, 'transition': 'Mb', 'energy_eV': 1700.1, 'intensity': 0.997068}, {'element': 'Hf', 'Z': 72, 'transition': 'Ma', 'energy_eV': 1646.1, 'intensity': 1.0}, {'element': 'Ta', 'Z': 73, 'transition': 'Mg', 'energy_eV': 1967.6, 'intensity': 1.0}, {'element': 'Ta', 'Z': 73, 'transition': 'Mz', 'energy_eV': 1329.6, 'intensity': 0.00293255}, {'element': 'Ta', 'Z': 73, 'transition': 'Mb', 'energy_eV': 1769.5, 'intensity': 0.997068}, {'element': 'Ta', 'Z': 73, 'transition': 'Ma', 'energy_eV': 1711.5, 'intensity': 1.0}, {'element': 'W', 'Z': 74, 'transition': 'Mg', 'energy_eV': 2037.5, 'intensity': 1.0}, {'element': 'W', 'Z': 74, 'transition': 'Mz', 'energy_eV': 1381.6, 'intensity': 0.00293255}, {'element': 'W', 'Z': 74, 'transition': 'Mb', 'energy_eV': 1838.4, 'intensity': 0.997068}, {'element': 'W', 'Z': 74, 'transition': 'Ma', 'energy_eV': 1775.4, 'intensity': 1.0}, {'element': 'Re', 'Z': 75, 'transition': 'Mg', 'energy_eV': 2106.5, 'intensity': 1.0}, {'element': 'Re', 'Z': 75, 'transition': 'Mz', 'energy_eV': 1430.3, 'intensity': 0.00293255}, {'element': 'Re', 'Z': 75, 'transition': 'Mb', 'energy_eV': 1906.1, 'intensity': 0.997068}, {'element': 'Re', 'Z': 75, 'transition': 'Ma', 'energy_eV': 1840.1, 'intensity': 1.0}, {'element': 'Os', 'Z': 76, 'transition': 'Mg', 'energy_eV': 2178.5, 'intensity': 1.0}, {'element': 'Os', 'Z': 76, 'transition': 'Mz', 'energy_eV': 1481.9, 'intensity': 0.00293255}, {'element': 'Os', 'Z': 76, 'transition': 'Mb', 'energy_eV': 1977.6, 'intensity': 0.997068}, {'element': 'Os', 'Z': 76, 'transition': 'Ma', 'energy_eV': 1906.6, 'intensity': 1.0}, {'element': 'Ir', 'Z': 77, 'transition': 'Mg', 'energy_eV': 2254.7, 'intensity': 1.0}, {'element': 'Ir', 'Z': 77, 'transition': 'Mz', 'energy_eV': 1538.2, 'intensity': 0.00293255}, {'element': 'Ir', 'Z': 77, 'transition': 'Mb', 'energy_eV': 2052.2, 'intensity': 0.997068}, {'element': 'Ir', 'Z': 77, 'transition': 'Ma', 'energy_eV': 1976.2, 'intensity': 1.0}, {'element': 'Pt', 'Z': 78, 'transition': 'Mg', 'energy_eV': 2330.4, 'intensity': 1.0}, {'element': 'Pt', 'Z': 78, 'transition': 'Mz', 'energy_eV': 1592.9, 'intensity': 0.00293255}, {'element': 'Pt', 'Z': 78, 'transition': 'Mb', 'energy_eV': 2127.5, 'intensity': 0.997068}, {'element': 'Pt', 'Z': 78, 'transition': 'Ma', 'energy_eV': 2047.5, 'intensity': 1.0}, {'element': 'Au', 'Z': 79, 'transition': 'Mg', 'energy_eV': 2407.9, 'intensity': 1.0}, {'element': 'Au', 'Z': 79, 'transition': 'Mz', 'energy_eV': 1648.3, 'intensity': 0.00293255}, {'element': 'Au', 'Z': 79, 'transition': 'Mb', 'energy_eV': 2203.4, 'intensity': 0.997068}, {'element': 'Au', 'Z': 79, 'transition': 'Ma', 'energy_eV': 2118.4, 'intensity': 1.0}, {'element': 'Hg', 'Z': 80, 'transition': 'Mg', 'energy_eV': 2488.2, 'intensity': 1.0}, {'element': 'Hg', 'Z': 80, 'transition': 'Mz', 'energy_eV': 1704.8, 'intensity': 0.00293255}, {'element': 'Hg', 'Z': 80, 'transition': 'Mb', 'energy_eV': 2281.0, 'intensity': 0.997068}, {'element': 'Hg', 'Z': 80, 'transition': 'Ma', 'energy_eV': 2191.0, 'intensity': 1.0}, {'element': 'Tl', 'Z': 81, 'transition': 'Mg', 'energy_eV': 2572.0, 'intensity': 1.0}, {'element': 'Tl', 'Z': 81, 'transition': 'Mz', 'energy_eV': 1764.5, 'intensity': 0.00293255}, {'element': 'Tl', 'Z': 81, 'transition': 'Mb', 'energy_eV': 2362.8, 'intensity': 0.997068}, {'element': 'Tl', 'Z': 81, 'transition': 'Ma', 'energy_eV': 2266.8, 'intensity': 1.0}, {'element': 'Pb', 'Z': 82, 'transition': 'Mg', 'energy_eV': 2653.8, 'intensity': 1.0}, {'element': 'Pb', 'Z': 82, 'transition': 'Mz', 'energy_eV': 1824.1, 'intensity': 0.00293255}, {'element': 'Pb', 'Z': 82, 'transition': 'Mb', 'energy_eV': 2444.3, 'intensity': 0.997068}, {'element': 'Pb', 'Z': 82, 'transition': 'Ma', 'energy_eV': 2342.3, 'intensity': 1.0}, {'element': 'Bi', 'Z': 83, 'transition': 'Mg', 'energy_eV': 2736.9, 'intensity': 1.0}, {'element': 'Bi', 'Z': 83, 'transition': 'Mz', 'energy_eV': 1882.8, 'intensity': 0.00293255}, {'element': 'Bi', 'Z': 83, 'transition': 'Mb', 'energy_eV': 2525.7, 'intensity': 0.997068}, {'element': 'Bi', 'Z': 83, 'transition': 'Ma', 'energy_eV': 2417.7, 'intensity': 1.0}, {'element': 'Po', 'Z': 84, 'transition': 'Mg', 'energy_eV': 2829.0, 'intensity': 1.0}, {'element': 'Po', 'Z': 84, 'transition': 'Mz', 'energy_eV': 1947.0, 'intensity': 0.00293255}, {'element': 'Po', 'Z': 84, 'transition': 'Mb', 'energy_eV': 2614.0, 'intensity': 0.997068}, {'element': 'Po', 'Z': 84, 'transition': 'Ma', 'energy_eV': 2499.0, 'intensity': 1.0}, {'element': 'At', 'Z': 85, 'transition': 'Mg', 'energy_eV': 2919.0, 'intensity': 1.0}, {'element': 'At', 'Z': 85, 'transition': 'Mz', 'energy_eV': 2023.0, 'intensity': 0.00293255}, {'element': 'At', 'Z': 85, 'transition': 'Mb', 'energy_eV': 2699.0, 'intensity': 0.997068}, {'element': 'At', 'Z': 85, 'transition': 'Ma', 'energy_eV': 2577.0, 'intensity': 1.0}, {'element': 'Rn', 'Z': 86, 'transition': 'Mg', 'energy_eV': 2997.0, 'intensity': 1.0}, {'element': 'Rn', 'Z': 86, 'transition': 'Mz', 'energy_eV': 2093.0, 'intensity': 0.00293255}, {'element': 'Rn', 'Z': 86, 'transition': 'Mb', 'energy_eV': 2784.0, 'intensity': 0.997068}, {'element': 'Rn', 'Z': 86, 'transition': 'Ma', 'energy_eV': 2654.0, 'intensity': 1.0}, {'element': 'Fr', 'Z': 87, 'transition': 'Mz', 'energy_eV': 2156.0, 'intensity': 0.00293255}, {'element': 'Fr', 'Z': 87, 'transition': 'Mb', 'energy_eV': 2868.0, 'intensity': 0.997068}, {'element': 'Fr', 'Z': 87, 'transition': 'Ma', 'energy_eV': 2732.0, 'intensity': 1.0}, {'element': 'Ra', 'Z': 88, 'transition': 'Mz', 'energy_eV': 2190.0, 'intensity': 0.00293255}, {'element': 'Ra', 'Z': 88, 'transition': 'Mb', 'energy_eV': 2949.0, 'intensity': 0.997068}, {'element': 'Ra', 'Z': 88, 'transition': 'Ma', 'energy_eV': 2806.0, 'intensity': 1.0}, {'element': 'Ac', 'Z': 89, 'transition': 'Mz', 'energy_eV': 2290.0, 'intensity': 0.00293255}, {'element': 'Ac', 'Z': 89, 'transition': 'Ma', 'energy_eV': 2900.0, 'intensity': 1.0}, {'element': 'Th', 'Z': 90, 'transition': 'Mz', 'energy_eV': 2323.0, 'intensity': 0.00293255}, {'element': 'Th', 'Z': 90, 'transition': 'Ma', 'energy_eV': 2989.6, 'intensity': 1.0}, {'element': 'Pa', 'Z': 91, 'transition': 'Mz', 'energy_eV': 2387.0, 'intensity': 0.00293255}, {'element': 'U', 'Z': 92, 'transition': 'Mz', 'energy_eV': 2457.0, 'intensity': 0.00293255}, {'element': 'Np', 'Z': 93, 'transition': 'Mz', 'energy_eV': 2521.0, 'intensity': 0.00293255}, {'element': 'Pu', 'Z': 94, 'transition': 'Mz', 'energy_eV': 2590.0, 'intensity': 0.00293255}, {'element': 'Am', 'Z': 95, 'transition': 'Mz', 'energy_eV': 2658.0, 'intensity': 0.00293255}, {'element': 'Cm', 'Z': 96, 'transition': 'Mz', 'energy_eV': 2726.0, 'intensity': 0.00293255}, {'element': 'Bk', 'Z': 97, 'transition': 'Mz', 'energy_eV': 2795.0, 'intensity': 0.00293255}, {'element': 'Cf', 'Z': 98, 'transition': 'Mz', 'energy_eV': 2864.0, 'intensity': 0.00293255}]\n"
     ]
    }
   ],
   "source": [
    "print(xray_line_searcher(100,3000))"
   ]
  },
  {
   "cell_type": "code",
   "execution_count": 12,
   "id": "4adf1980",
   "metadata": {},
   "outputs": [],
   "source": [
    "def peak_text_prompter(peaks, bin_edges, delta_bin):\n",
    "    '''\n",
    "    Energies from this function are in keV! \\n\n",
    "    '''\n",
    "    energy_bins = {}\n",
    "    output = open('bins_matching_log.txt', 'w')\n",
    "    \n",
    "    dual_print('--'.ljust(80,'-'))\n",
    "    dual_print('Bin'.ljust(8) + '| ' + 'E_range (eV)'.ljust(18) + '| ' + 'El.'.ljust(4)  + '| ' + 'Line'.ljust(6) + '| ' + 'Energy (eV)'.ljust(12) + '| ' + 'Int.'.ljust(6))\n",
    "    \n",
    "    for p in peaks:\n",
    "        energy_bins[p] = [bin_edges[p], bin_edges[p] + delta_bin/2, bin_edges[p+1]]\n",
    "        \n",
    "        E_low = round(energy_bins[p][0]*10**6,4)\n",
    "        E_high = round(energy_bins[p][2]*10**6,4)\n",
    "        matching = xray_line_searcher(E_low, E_high)\n",
    "        # print(matching[0])\n",
    "        # print(energy_bins[p])\n",
    "        dual_print(f'Bin {p}'.ljust(8) + '| ' + f'{round(energy_bins[p][0]*10**6,1)} - {round(energy_bins[p][2]*10**6,1)}'.ljust(18) + '| ' + '-'.ljust(33,'-'))\n",
    "        \n",
    "        for line in matching:\n",
    "            dual_print(''.ljust(28) + '| ' + str(line['element']).ljust(4) + '| ' + str(line['transition']).ljust(6) + '| ' + str(line['energy_eV']).ljust(12) + '| ' + str(round(line['intensity'],3)).ljust(6))\n",
    "    return True\n",
    "\n",
    "#print(t[2].ljust(30) + '| ' + t[5].ljust(20) + '| ' + t[4].ljust(32) + '| ' + longstop.ljust(32) + '| ' + t[0].ljust(10) + '| ' + ''.ljust(10) + '| ' + '\\n' + '--'.ljust(145,'-'))"
   ]
  },
  {
   "cell_type": "code",
   "execution_count": 6,
   "id": "28cec3f8",
   "metadata": {},
   "outputs": [],
   "source": [
    "def array_to_histo(prm, data, mask_min = 0., mask_max = 0.1, yscale = 'linear'):\n",
    "    '''\n",
    "    data = numpy array \\n\n",
    "    mask_max = float; in MeV\n",
    "    '''\n",
    "    if prm != {}:\n",
    "        mask_min = prm['mask_min']\n",
    "        mask_max = prm['mask_max']\n",
    "        title = prm['title']\n",
    "        peak_height = prm['peak_height']\n",
    "    \n",
    "    B = int(mask_max/0.00012 - mask_min/0.00012)\n",
    "    print(B)\n",
    "    min_cut_data = data[data >= mask_min]\n",
    "    counts, bin_edges = np.histogram(min_cut_data[min_cut_data <= mask_max], bins=B)\n",
    "    delta_bin = abs(bin_edges[0] - bin_edges[1])\n",
    "\n",
    "    # print(\"Counts:\", counts)\n",
    "    # print(\"Bin edges:\", bin_edges)\n",
    "    peaks, properties = find_peaks(counts, height=peak_height)\n",
    "    # print(peaks)\n",
    "    \n",
    "    plt.figure(figsize=(5,3), dpi=250)\n",
    "    if (B < 250):\n",
    "        plt.hist(min_cut_data[min_cut_data <= mask_max], bins=B, color=\"#C6C6C6\", edgecolor='#C6C6C6', zorder=2, label='Full spectrum')\n",
    "    \n",
    "    bin_centers = 0.5 * (bin_edges[:-1] + bin_edges[1:])\n",
    "    selected_counts = counts[peaks]\n",
    "    selected_centers = bin_centers[peaks]\n",
    "    selected_widths = np.diff(bin_edges)[peaks]\n",
    "\n",
    "    # Plot only selected bins as a bar chart\n",
    "    plt.bar(selected_centers, selected_counts, width=selected_widths, color=\"#0F50B2\", edgecolor='#0F50B2', zorder=3, label='Peaks')\n",
    "    if (B < 250):\n",
    "        for b in range(len(selected_centers)):\n",
    "            plt.text(x=bin_edges[peaks][b], y=selected_counts[b]*1.2, s=f'Bin {peaks[b]}', fontdict={'fontsize':7, 'rotation':90})\n",
    "        peak_text_prompter(peaks, bin_edges, delta_bin)\n",
    "    # plt.plot(bin_edges[peaks]+ delta_bin/2, counts[peaks], 'bx', label='Prominent Peaks')\n",
    "    plt.xlabel(r'$E_{\\mathrm{kin}}^{\\gamma}$ in MeV')\n",
    "    plt.ylabel('Counts')\n",
    "    plt.yscale(yscale)\n",
    "    plt.ylim(0,np.max(selected_counts)*1.2)\n",
    "    plt.xlim(mask_min,mask_max)\n",
    "    plt.legend()\n",
    "    plt.title(title)\n",
    "    plt.grid(True, zorder=1, alpha=0.25)\n",
    "    plt.tight_layout()\n",
    "    plt.show()\n",
    "    \n",
    "    peak_text_prompter(peaks, bin_edges, delta_bin)"
   ]
  },
  {
   "cell_type": "code",
   "execution_count": 7,
   "id": "e7645aa7",
   "metadata": {},
   "outputs": [],
   "source": [
    "def nD_histogram(data, nD):\n",
    "    if (type(data) != dict):\n",
    "        pass #ARRAY\n",
    "    else:\n",
    "        df = pd.DataFrame({\n",
    "            'theta': data['theta'],\n",
    "            'phi': data['phi']\n",
    "        })\n",
    "        plt.figure(figsize=(6,4), dpi=250)\n",
    "        sb.histplot(data=df, x='theta', y='phi', bins=50, cbar=True, cmap='viridis')\n",
    "        # Customize labels and title\n",
    "        plt.title(\"2D Heatmap of Spherical Angles theta and phi\")\n",
    "        plt.xlabel(\"theta (radians)\")\n",
    "        plt.ylabel(\"phi (radians)\")\n",
    "\n",
    "        # Show plot\n",
    "        plt.tight_layout()\n",
    "        plt.show()\n",
    "    return 42"
   ]
  },
  {
   "cell_type": "code",
   "execution_count": 8,
   "id": "aedb8666",
   "metadata": {},
   "outputs": [],
   "source": [
    "def full_histo_suite(data):\n",
    "    return 'Arschf***e.txt not found'"
   ]
  },
  {
   "cell_type": "code",
   "execution_count": 9,
   "id": "ec079c8f",
   "metadata": {},
   "outputs": [
    {
     "name": "stdout",
     "output_type": "stream",
     "text": [
      "True\n",
      "Array for key Ekin created. 1/3\n",
      "Array for key theta created. 2/3\n",
      "Array for key phi created. 3/3\n",
      "WARNING: The data is now structured in a dictionary, with the keys dict_keys(['Ekin', 'theta', 'phi'])\n",
      "19.711998550222624\n"
     ]
    }
   ],
   "source": [
    "data = json_to_np(json_path + \"//BonnPIXE2_Blade15_Front17544_PIXE_1.json\" , json_field='all')\n",
    "print(np.max(data['Ekin']))\n",
    "\n",
    "# nD_histogram(data,nD=2)\n"
   ]
  },
  {
   "cell_type": "code",
   "execution_count": 10,
   "id": "7bcd0074",
   "metadata": {},
   "outputs": [],
   "source": [
    "# import numpy as np\n",
    "# import matplotlib.pyplot as plt\n",
    "# from mpl_toolkits.mplot3d import Axes3D\n",
    "# from scipy.stats import gaussian_kde\n",
    "\n",
    "# # Convert to Cartesian coordinates (unit sphere)\n",
    "# x = np.sin(data['theta']) * np.cos(data['phi'])\n",
    "# y = np.sin(data['theta']) * np.sin(data['phi'])\n",
    "# z = np.cos(data['theta'])\n",
    "\n",
    "# # Estimate density in θ–φ space\n",
    "# values = np.vstack([data['theta'], data['phi']])\n",
    "# density = gaussian_kde(values)(values)  # density evaluated at each (θ, φ)\n",
    "\n",
    "# # Plotting\n",
    "# fig = plt.figure(figsize=(8, 8))\n",
    "# ax = fig.add_subplot(111, projection='3d')\n",
    "\n",
    "# # Plot each point with color based on density\n",
    "# sc = ax.scatter(x, y, z, c=density, cmap='plasma', s=1, alpha=0.8)\n",
    "\n",
    "# # Optional: wireframe for reference\n",
    "# u, v = np.mgrid[0:2*np.pi:40j, 0:np.pi:20j]\n",
    "# xs = np.sin(v) * np.cos(u)\n",
    "# ys = np.sin(v) * np.sin(u)\n",
    "# zs = np.cos(v)\n",
    "# ax.plot_wireframe(xs, ys, zs, color='gray', linewidth=0.2, alpha=0.3)\n",
    "\n",
    "# # Add colorbar\n",
    "# cbar = plt.colorbar(sc, ax=ax, shrink=0.6)\n",
    "# cbar.set_label(\"Point Density in θ–φ Space\")\n",
    "\n",
    "# # Clean look\n",
    "# ax.set_title('Sphere Colored by Angular Density')\n",
    "# ax.set_box_aspect([1,1,1])\n",
    "# ax.axis('off')\n",
    "\n",
    "# plt.tight_layout()\n",
    "# plt.show()\n"
   ]
  },
  {
   "cell_type": "code",
   "execution_count": 14,
   "id": "8dcd814f",
   "metadata": {},
   "outputs": [
    {
     "name": "stdout",
     "output_type": "stream",
     "text": [
      "833\n"
     ]
    },
    {
     "data": {
      "image/png": "[encoded data removed]",
      "text/plain": [
       "<Figure size 1250x750 with 1 Axes>"
      ]
     },
     "metadata": {},
     "output_type": "display_data"
    },
    {
     "name": "stdout",
     "output_type": "stream",
     "text": [
      "--------------------------------------------------------------------------------\n",
      "Bin     | E_range (eV)      | El. | Line  | Energy (eV) | Int.  \n",
      "Bin 47  | 7371.0 - 7488.9   | ---------------------------------\n",
      "                            | Ni  | Ka2   | 7463.0      | 0.294 \n",
      "                            | Ni  | Ka1   | 7480.3      | 0.578 \n",
      "                            | Sm  | Lg2   | 7471.4      | 0.092 \n",
      "                            | Eu  | Lg1   | 7484.0      | 0.14  \n",
      "                            | Dy  | Lb6   | 7375.8      | 0.008 \n",
      "                            | Ho  | Lb4   | 7471.0      | 0.297 \n",
      "                            | Yb  | La1   | 7416.0      | 0.734 \n",
      "                            | W   | Ll    | 7387.0      | 0.034 \n",
      "Bin 52  | 7960.3 - 8078.1   | ---------------------------------\n",
      "                            | Cu  | Ka2   | 8026.7      | 0.294 \n",
      "                            | Cu  | Ka1   | 8046.3      | 0.577 \n",
      "                            | Tm  | Lb4   | 8026.0      | 0.301 \n",
      "                            | Ir  | Ll    | 8041.0      | 0.036 \n",
      "Bin 57  | 8549.5 - 8667.3   | ---------------------------------\n",
      "                            | Zn  | Ka2   | 8614.1      | 0.294 \n",
      "                            | Zn  | Ka1   | 8637.2      | 0.576 \n",
      "                            | Lu  | Lb4   | 8606.0      | 0.306 \n",
      "                            | Re  | La2   | 8586.0      | 0.079 \n",
      "                            | Re  | La1   | 8652.0      | 0.712 \n",
      "Bin 59  | 8785.2 - 8903.0   | ---------------------------------\n",
      "                            | Cu  | Kb3   | 8901.7      | 0.044 \n",
      "                            | Lu  | Lb3   | 8846.0      | 0.46  \n",
      "                            | Os  | La2   | 8840.0      | 0.079 \n",
      "Bin 442 | 53921.0 - 54038.9 | ---------------------------------\n",
      "Bin 503 | 61109.8 - 61227.6 | ---------------------------------\n",
      "                            | Yb  | Kb4   | 61140.8     | 0.001 \n",
      "                            | Re  | Ka1   | 61141.0     | 0.499 \n",
      "Bin 758 | 91161.1 - 91278.9 | ---------------------------------\n",
      "Bin 776 | 93282.3 - 93400.2 | ---------------------------------\n",
      "                            | Th  | Ka1   | 93351.0     | 0.476 \n"
     ]
    }
   ],
   "source": [
    "array_to_histo(PARAM_XRAY_H, data['Ekin'])\n",
    "# array_to_histo(data['Ekin'], mask_max=520)"
   ]
  },
  {
   "cell_type": "code",
   "execution_count": null,
   "id": "20fe9363",
   "metadata": {},
   "outputs": [
    {
     "data": {
      "text/plain": [
       "8026.2"
      ]
     },
     "execution_count": 10,
     "metadata": {},
     "output_type": "execute_result"
    }
   ],
   "source": [
    "xy.xray_transition_energy_eV(29, 'Ka2')\n"
   ]
  },
  {
   "cell_type": "code",
   "execution_count": null,
   "id": "f9a7e509",
   "metadata": {},
   "outputs": [],
   "source": []
  }
 ],
 "metadata": {
  "kernelspec": {
   "display_name": "Python 3",
   "language": "python",
   "name": "python3"
  },
  "language_info": {
   "codemirror_mode": {
    "name": "ipython",
    "version": 3
   },
   "file_extension": ".py",
   "mimetype": "text/x-python",
   "name": "python",
   "nbconvert_exporter": "python",
   "pygments_lexer": "ipython3",
   "version": "3.13.3"
  }
 },
 "nbformat": 4,
 "nbformat_minor": 5
}
