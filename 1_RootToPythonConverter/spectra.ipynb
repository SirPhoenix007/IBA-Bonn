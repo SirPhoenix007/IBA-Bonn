{
 "cells": [
  {
   "cell_type": "code",
   "execution_count": 44,
   "id": "ee1db3fa",
   "metadata": {},
   "outputs": [
    {
     "name": "stdout",
     "output_type": "stream",
     "text": [
      "MAC address: 0xb6ab0b4445f9\n"
     ]
    }
   ],
   "source": [
    "\n",
    "#by Henry Schumacher\n",
    "#-o-o-o-o-o-o-o-o-o-o-o-o-o-o-o-o-o-o-o-o-o-o-o-o-o-#\n",
    "import os\n",
    "import sys\n",
    "import json\n",
    "import uuid\n",
    "import xraydb\n",
    "#-o-o-o-o-o-o-o-o-o-o-o-o-o-o-o-o-o-o-o-o-o-o-o-o-o-#\n",
    "import numpy as np\n",
    "import pandas as pd\n",
    "import pyxray as xy\n",
    "import seaborn as sb\n",
    "#-o-o-o-o-o-o-o-o-o-o-o-o-o-o-o-o-o-o-o-o-o-o-o-o-o-#\n",
    "import matplotlib.pyplot as plt\n",
    "from scipy.signal import find_peaks\n",
    "#-o-o-o-o-o-o-o-o-o-o-o-o-o-o-o-o-o-o-o-o-o-o-o-o-o-#\n",
    "from matplotlib import rc\n",
    "# rc('font',**{'family':'sans-serif','sans-serif':['Helvetica']})\n",
    "## for Palatino and other serif fonts use:\n",
    "plt.rcParams.update({\n",
    "    \"font.family\": \"serif\",\n",
    "    \"font.serif\": [\"Times\"],\n",
    "    \"text.usetex\": True,\n",
    "    \"font.size\": 8,\n",
    "    \"pgf.rcfonts\": False\n",
    "})\n",
    "# rc('font',**{'family':'serif','serif':['Times']})\n",
    "# rc('text', usetex=True)\n",
    "# plt.rcParams.update({'font.size': 8})\n",
    "\n",
    "plt.rcParams.update({\n",
    "    \"pgf.texsystem\": \"pdflatex\",\n",
    "    \"pgf.preamble\": \"\\n\".join([\n",
    "          r\"\\usepackage{mathtools}\",\n",
    "     ]),\n",
    "})\n",
    "#-o-o-o-o-o-o-o-o-o-o-o-o-o-o-o-o-o-o-o-o-o-o-o-o-o-#\n",
    "from json_to_np import *\n",
    "from colors import load_colors\n",
    "#-o-o-o-o-o-o-o-o-o-o-o-o-o-o-o-o-o-o-o-o-o-o-o-o-o-#\n",
    "\n",
    "\n",
    "mac = hex(uuid.getnode())\n",
    "print(f\"MAC address: {mac}\")\n",
    "\n",
    "mac_dict = {'0xb6ab0b4445f9': ['C://Users//schum//Documents//Filing Cabinet//1_RootFilesGeant4', 'C://Users//schum//Documents//Filing Cabinet//2_jsonFiles'], # Office\n",
    "            '0x145afc4fe836': ['C://Users//schum//Documents//root_files_temp_storage', 'C://Users//schum//Documents//json_files_temp_storage'], # Laptop\n",
    "            '0x1a7dda7115'  : ['B://IBA//root', 'B://IBA//json']} # Home PC\n",
    "# Each mac adresse leads to a pair of paths, the first being the folder, \n",
    "# where the root files are, the second, where the json files are supposed to be stored\n",
    "# root_path = mac_dict[mac][0]\n",
    "json_path = mac_dict[mac][1]\n",
    "\n",
    "color_schemes = load_colors()\n",
    "# print(color_schemes)"
   ]
  },
  {
   "cell_type": "code",
   "execution_count": null,
   "id": "4adf1980",
   "metadata": {},
   "outputs": [],
   "source": [
    "def peak_text_prompter(peaks, counts, bin_edges, delta_bin):\n",
    "    '''\n",
    "    Energies from this function are in keV! \\n\n",
    "    '''\n",
    "    energy_bins = {}\n",
    "    for p in peaks:\n",
    "        energy_bins[p] = [bin_edges[p], bin_edges[p] + delta_bin/2, bin_edges[p+1]]\n",
    "    # print(energy_bins)\n",
    "    return True\n",
    "\n",
    "#print(t[2].ljust(30) + '| ' + t[5].ljust(20) + '| ' + t[4].ljust(32) + '| ' + longstop.ljust(32) + '| ' + t[0].ljust(10) + '| ' + ''.ljust(10) + '| ' + '\\n' + '--'.ljust(145,'-'))"
   ]
  },
  {
   "cell_type": "code",
   "execution_count": 38,
   "id": "28cec3f8",
   "metadata": {},
   "outputs": [],
   "source": [
    "def array_to_histo(data, mask_max = 10):\n",
    "    '''\n",
    "    data = numpy array \\n\n",
    "    mask_max = float; in keV\n",
    "    '''\n",
    "    B = int(mask_max/0.12)\n",
    "    counts, bin_edges = np.histogram(data[data <= mask_max], bins=B)\n",
    "    delta_bin = abs(bin_edges[0] - bin_edges[1])\n",
    "\n",
    "    # print(\"Counts:\", counts)\n",
    "    # print(\"Bin edges:\", bin_edges)\n",
    "    peaks, properties = find_peaks(counts, height=0)\n",
    "    # print(peaks)\n",
    "    peak_text_prompter(peaks, counts, bin_edges, delta_bin)\n",
    "    plt.figure(figsize=(6,4), dpi=250)\n",
    "    plt.hist(data[data <= mask_max], bins=B, color='firebrick', edgecolor='firebrick', zorder=2)\n",
    "    plt.plot(bin_edges[peaks]+ delta_bin/2, counts[peaks], 'bx', label='Prominent Peaks')\n",
    "    plt.xlabel('Ekin')\n",
    "    plt.ylabel('Counts')\n",
    "    plt.yscale('linear')\n",
    "    # plt.ylim(0,500)\n",
    "    # plt.xlim(8,10)\n",
    "    plt.legend()\n",
    "    plt.title(\"Histogramm von Ekin\")\n",
    "    plt.grid(True, zorder=1)\n",
    "    plt.tight_layout()\n",
    "    plt.show()"
   ]
  },
  {
   "cell_type": "code",
   "execution_count": 23,
   "id": "e7645aa7",
   "metadata": {},
   "outputs": [],
   "source": [
    "def nD_histogram(data, nD):\n",
    "    if (type(data) != dict):\n",
    "        pass #ARRAY\n",
    "    else:\n",
    "        df = pd.DataFrame({\n",
    "            'theta': data['theta'],\n",
    "            'phi': data['phi']\n",
    "        })\n",
    "        plt.figure(figsize=(6,4), dpi=250)\n",
    "        sb.histplot(data=df, x='theta', y='phi', bins=50, cbar=True, cmap='viridis')\n",
    "        # Customize labels and title\n",
    "        plt.title(\"2D Heatmap of Spherical Angles theta and phi\")\n",
    "        plt.xlabel(\"theta (radians)\")\n",
    "        plt.ylabel(\"phi (radians)\")\n",
    "\n",
    "        # Show plot\n",
    "        plt.tight_layout()\n",
    "        plt.show()\n",
    "    return 42"
   ]
  },
  {
   "cell_type": "code",
   "execution_count": null,
   "id": "aedb8666",
   "metadata": {},
   "outputs": [],
   "source": [
    "def full_histo_suite(data):\n",
    "    "
   ]
  },
  {
   "cell_type": "code",
   "execution_count": 5,
   "id": "ec079c8f",
   "metadata": {},
   "outputs": [
    {
     "name": "stdout",
     "output_type": "stream",
     "text": [
      "True\n",
      "Array for key Ekin created. 1/3\n",
      "Array for key theta created. 2/3\n",
      "Array for key phi created. 3/3\n",
      "WARNING: The data is now structured in a dictionary, with the keys dict_keys(['Ekin', 'theta', 'phi'])\n"
     ]
    },
    {
     "ename": "NameError",
     "evalue": "name 'nD_histogram' is not defined",
     "output_type": "error",
     "traceback": [
      "\u001b[1;31m---------------------------------------------------------------------------\u001b[0m",
      "\u001b[1;31mNameError\u001b[0m                                 Traceback (most recent call last)",
      "Cell \u001b[1;32mIn[5], line 3\u001b[0m\n\u001b[0;32m      1\u001b[0m data \u001b[38;5;241m=\u001b[39m json_to_np(json_path \u001b[38;5;241m+\u001b[39m \u001b[38;5;124m\"\u001b[39m\u001b[38;5;124m//BonnPIXE2_Blade15_Front17544_PIXE_1.json\u001b[39m\u001b[38;5;124m\"\u001b[39m , json_field\u001b[38;5;241m=\u001b[39m\u001b[38;5;124m'\u001b[39m\u001b[38;5;124mall\u001b[39m\u001b[38;5;124m'\u001b[39m)\n\u001b[1;32m----> 3\u001b[0m \u001b[43mnD_histogram\u001b[49m(data,nD\u001b[38;5;241m=\u001b[39m\u001b[38;5;241m2\u001b[39m)\n",
      "\u001b[1;31mNameError\u001b[0m: name 'nD_histogram' is not defined"
     ]
    }
   ],
   "source": [
    "data = json_to_np(json_path + \"//BonnPIXE2_Blade15_Front17544_PIXE_1.json\" , json_field='all')\n",
    "\n",
    "nD_histogram(data,nD=2)\n"
   ]
  },
  {
   "cell_type": "code",
   "execution_count": null,
   "id": "7bcd0074",
   "metadata": {},
   "outputs": [],
   "source": [
    "import numpy as np\n",
    "import matplotlib.pyplot as plt\n",
    "from mpl_toolkits.mplot3d import Axes3D\n",
    "from scipy.stats import gaussian_kde\n",
    "\n",
    "# Convert to Cartesian coordinates (unit sphere)\n",
    "x = np.sin(data['theta']) * np.cos(data['phi'])\n",
    "y = np.sin(data['theta']) * np.sin(data['phi'])\n",
    "z = np.cos(data['theta'])\n",
    "\n",
    "# Estimate density in θ–φ space\n",
    "values = np.vstack([data['theta'], data['phi']])\n",
    "density = gaussian_kde(values)(values)  # density evaluated at each (θ, φ)\n",
    "\n",
    "# Plotting\n",
    "fig = plt.figure(figsize=(8, 8))\n",
    "ax = fig.add_subplot(111, projection='3d')\n",
    "\n",
    "# Plot each point with color based on density\n",
    "sc = ax.scatter(x, y, z, c=density, cmap='plasma', s=1, alpha=0.8)\n",
    "\n",
    "# Optional: wireframe for reference\n",
    "u, v = np.mgrid[0:2*np.pi:40j, 0:np.pi:20j]\n",
    "xs = np.sin(v) * np.cos(u)\n",
    "ys = np.sin(v) * np.sin(u)\n",
    "zs = np.cos(v)\n",
    "ax.plot_wireframe(xs, ys, zs, color='gray', linewidth=0.2, alpha=0.3)\n",
    "\n",
    "# Add colorbar\n",
    "cbar = plt.colorbar(sc, ax=ax, shrink=0.6)\n",
    "cbar.set_label(\"Point Density in θ–φ Space\")\n",
    "\n",
    "# Clean look\n",
    "ax.set_title('Sphere Colored by Angular Density')\n",
    "ax.set_box_aspect([1,1,1])\n",
    "ax.axis('off')\n",
    "\n",
    "plt.tight_layout()\n",
    "plt.show()\n"
   ]
  },
  {
   "cell_type": "code",
   "execution_count": 41,
   "id": "8dcd814f",
   "metadata": {},
   "outputs": [
    {
     "data": {
      "image/png": "[encoded data removed]",
      "text/plain": [
       "<Figure size 1500x1000 with 1 Axes>"
      ]
     },
     "metadata": {},
     "output_type": "display_data"
    }
   ],
   "source": [
    "array_to_histo(data['Ekin'], mask_max=8)"
   ]
  },
  {
   "cell_type": "code",
   "execution_count": null,
   "id": "20fe9363",
   "metadata": {},
   "outputs": [
    {
     "data": {
      "text/plain": [
       "637.0"
      ]
     },
     "execution_count": 8,
     "metadata": {},
     "output_type": "execute_result"
    }
   ],
   "source": [
    "xy.xray_transition_energy_eV(25, 'La1')"
   ]
  },
  {
   "cell_type": "code",
   "execution_count": null,
   "id": "f9a7e509",
   "metadata": {},
   "outputs": [],
   "source": []
  }
 ],
 "metadata": {
  "kernelspec": {
   "display_name": "Python 3",
   "language": "python",
   "name": "python3"
  },
  "language_info": {
   "codemirror_mode": {
    "name": "ipython",
    "version": 3
   },
   "file_extension": ".py",
   "mimetype": "text/x-python",
   "name": "python",
   "nbconvert_exporter": "python",
   "pygments_lexer": "ipython3",
   "version": "3.12.3"
  }
 },
 "nbformat": 4,
 "nbformat_minor": 5
}
