{
 "cells": [
  {
   "cell_type": "code",
   "execution_count": 3,
   "id": "ee1db3fa",
   "metadata": {},
   "outputs": [
    {
     "name": "stdout",
     "output_type": "stream",
     "text": [
      "MAC address: 0xb6ab0b4445f9\n"
     ]
    }
   ],
   "source": [
    "\n",
    "#by Henry Schumacher\n",
    "#-o-o-o-o-o-o-o-o-o-o-o-o-o-o-o-o-o-o-o-o-o-o-o-o-o-#\n",
    "import os\n",
    "import sys\n",
    "import json\n",
    "import uuid\n",
    "import xraydb\n",
    "import plotly\n",
    "#-o-o-o-o-o-o-o-o-o-o-o-o-o-o-o-o-o-o-o-o-o-o-o-o-o-#\n",
    "import numpy as np\n",
    "import pandas as pd\n",
    "import pyxray as xy\n",
    "import seaborn as sb\n",
    "#-o-o-o-o-o-o-o-o-o-o-o-o-o-o-o-o-o-o-o-o-o-o-o-o-o-#\n",
    "import matplotlib.pyplot as plt\n",
    "from scipy.signal import find_peaks\n",
    "#-o-o-o-o-o-o-o-o-o-o-o-o-o-o-o-o-o-o-o-o-o-o-o-o-o-#\n",
    "from matplotlib import rc\n",
    "# rc('font',**{'family':'sans-serif','sans-serif':['Helvetica']})\n",
    "## for Palatino and other serif fonts use:\n",
    "plt.rcParams.update({\n",
    "    \"font.family\": \"serif\",\n",
    "    \"font.serif\": [\"Times\"],\n",
    "    \"text.usetex\": True,\n",
    "    \"font.size\": 8,\n",
    "    \"pgf.rcfonts\": False\n",
    "})\n",
    "# rc('font',**{'family':'serif','serif':['Times']})\n",
    "# rc('text', usetex=True)\n",
    "# plt.rcParams.update({'font.size': 8})\n",
    "\n",
    "plt.rcParams.update({\n",
    "    \"pgf.texsystem\": \"pdflatex\",\n",
    "    \"pgf.preamble\": \"\\n\".join([\n",
    "          r\"\\usepackage{mathtools}\",\n",
    "     ]),\n",
    "})\n",
    "#-o-o-o-o-o-o-o-o-o-o-o-o-o-o-o-o-o-o-o-o-o-o-o-o-o-#\n",
    "def dual_print(*args, **kwargs):\n",
    "    print(*args)\n",
    "    with open('bins_matching_log.txt', 'a') as out:\n",
    "        print(*args, **kwargs, file=out)\n",
    "#-o-o-o-o-o-o-o-o-o-o-o-o-o-o-o-o-o-o-o-o-o-o-o-o-o-#\n",
    "from json_to_np import *\n",
    "from colors import load_colors\n",
    "#-o-o-o-o-o-o-o-o-o-o-o-o-o-o-o-o-o-o-o-o-o-o-o-o-o-#\n",
    "\n",
    "\n",
    "mac = hex(uuid.getnode())\n",
    "print(f\"MAC address: {mac}\")\n",
    "\n",
    "mac_dict = {'0xb6ab0b4445f9': ['C://Users//schum//Documents//Filing Cabinet//1_RootFilesGeant4', 'C://Users//schum//Documents//Filing Cabinet//2_jsonFiles'], # Office\n",
    "            '0x145afc4fe836': ['C://Users//schum//Documents//root_files_temp_storage', 'C://Users//schum//Documents//json_files_temp_storage'], # Laptop\n",
    "            '0x1a7dda7115'  : ['B://IBA//root', 'B://IBA//json']} # Home PC\n",
    "# Each mac adresse leads to a pair of paths, the first being the folder, \n",
    "# where the root files are, the second, where the json files are supposed to be stored\n",
    "# root_path = mac_dict[mac][0]\n",
    "json_path = mac_dict[mac][1]\n",
    "\n",
    "color_schemes = load_colors()\n",
    "# print(color_schemes)"
   ]
  },
  {
   "cell_type": "code",
   "execution_count": 73,
   "id": "26747a3e",
   "metadata": {},
   "outputs": [],
   "source": [
    "def xray_line_searcher(energy_low, energy_high):\n",
    "    '''\n",
    "    energy_low/high: in eV\n",
    "    '''\n",
    "    matching = []\n",
    "\n",
    "    for Z in range(1, 101):  # Elements from Hydrogen (Z=1) to Fermium (Z=100)\n",
    "        element = xraydb.atomic_symbol(Z)\n",
    "\n",
    "        # Get all known X-ray lines for the element\n",
    "        try:\n",
    "            lines = xraydb.xray_lines(element)\n",
    "        except Exception:\n",
    "            continue  # Skip elements that don't have data\n",
    "        \n",
    "        # print(lines)\n",
    "        for line_id, line in lines.items():\n",
    "            line_energy = line.energy  # Energy in keV\n",
    "            if (energy_low <= line_energy and line_energy <= energy_high):\n",
    "                matching.append({\n",
    "                    'element': element,\n",
    "                    'Z': Z,\n",
    "                    'transition': line_id,\n",
    "                    'energy_keV': line_energy,\n",
    "                    'intensity': line.intensity\n",
    "                })\n",
    "\n",
    "    return matching"
   ]
  },
  {
   "cell_type": "code",
   "execution_count": 109,
   "id": "4adf1980",
   "metadata": {},
   "outputs": [],
   "source": [
    "def peak_text_prompter(peaks, counts, bin_edges, delta_bin):\n",
    "    '''\n",
    "    Energies from this function are in keV! \\n\n",
    "    '''\n",
    "    energy_bins = {}\n",
    "    output = open('bins_matching_log.txt', 'w')\n",
    "    \n",
    "    dual_print('--'.ljust(80,'-'))\n",
    "    dual_print('Bin'.ljust(8) + '| ' + 'E_range (eV)'.ljust(18) + '| ' + 'El.'.ljust(4)  + '| ' + 'Line'.ljust(6) + '| ' + 'Energy (eV)'.ljust(12) + '| ' + 'Int.'.ljust(6))\n",
    "    \n",
    "    for p in peaks:\n",
    "        energy_bins[p] = [bin_edges[p], bin_edges[p] + delta_bin/2, bin_edges[p+1]]\n",
    "        \n",
    "        E_low = round(energy_bins[p][0]*10**6,4)\n",
    "        E_high = round(energy_bins[p][2]*10**6,4)\n",
    "        matching = xray_line_searcher(E_low, E_high)\n",
    "        # print(matching[0])\n",
    "        # print(energy_bins[p])\n",
    "        dual_print(f'Bin {p}'.ljust(8) + '| ' + f'{round(energy_bins[p][0]*10**6,1)} - {round(energy_bins[p][2]*10**6,1)}'.ljust(18) + '| ' + '-'.ljust(33,'-'))\n",
    "        \n",
    "        for line in matching:\n",
    "            dual_print(''.ljust(28) + '| ' + str(line['element']).ljust(4) + '| ' + str(line['transition']).ljust(6) + '| ' + str(line['energy_keV']).ljust(12) + '| ' + str(round(line['intensity'],3)).ljust(6))\n",
    "    return True\n",
    "\n",
    "#print(t[2].ljust(30) + '| ' + t[5].ljust(20) + '| ' + t[4].ljust(32) + '| ' + longstop.ljust(32) + '| ' + t[0].ljust(10) + '| ' + ''.ljust(10) + '| ' + '\\n' + '--'.ljust(145,'-'))"
   ]
  },
  {
   "cell_type": "code",
   "execution_count": 143,
   "id": "28cec3f8",
   "metadata": {},
   "outputs": [],
   "source": [
    "def array_to_histo(data, mask_min = 0, mask_max = 0.1, yscale = 'linear'):\n",
    "    '''\n",
    "    data = numpy array \\n\n",
    "    mask_max = float; in MeV\n",
    "    '''\n",
    "    B = int(mask_max/0.00012)\n",
    "    print(B)\n",
    "    counts, bin_edges = np.histogram(data[data <= mask_max], bins=B)\n",
    "    delta_bin = abs(bin_edges[0] - bin_edges[1])\n",
    "\n",
    "    # print(\"Counts:\", counts)\n",
    "    # print(\"Bin edges:\", bin_edges)\n",
    "    peaks, properties = find_peaks(counts, height=10)\n",
    "    # print(peaks)\n",
    "    \n",
    "    plt.figure(figsize=(5,3), dpi=250)\n",
    "    if (B < 250):\n",
    "        plt.hist(data[data <= mask_max], bins=B, color=\"#C6C6C6\", edgecolor='#C6C6C6', zorder=2, label='Full spectrum')\n",
    "    \n",
    "    bin_centers = 0.5 * (bin_edges[:-1] + bin_edges[1:])\n",
    "    selected_counts = counts[peaks]\n",
    "    selected_centers = bin_centers[peaks]\n",
    "    selected_widths = np.diff(bin_edges)[peaks]\n",
    "\n",
    "    # Plot only selected bins as a bar chart\n",
    "    plt.bar(selected_centers, selected_counts, width=selected_widths, color=\"#0F50B2\", edgecolor='#0F50B2', zorder=3, label='Peaks')\n",
    "    if (B < 250):\n",
    "        for b in range(len(selected_centers)):\n",
    "            plt.text(x=bin_edges[peaks][b], y=selected_counts[b]+150, s=f'Bin {peaks[b]}', fontdict={'fontsize':7, 'rotation':90}) \n",
    "    # plt.plot(bin_edges[peaks]+ delta_bin/2, counts[peaks], 'bx', label='Prominent Peaks')\n",
    "    plt.xlabel(r'$E_{\\mathrm{kin}}^{\\gamma}$ in MeV')\n",
    "    plt.ylabel('Counts')\n",
    "    plt.yscale(yscale)\n",
    "    plt.ylim(0,np.max(selected_counts)*1.2)\n",
    "    plt.xlim(mask_min,mask_max)\n",
    "    plt.legend()\n",
    "    plt.title(\"X-ray gamma emission spectrum\")\n",
    "    plt.grid(True, zorder=1, alpha=0.25)\n",
    "    plt.tight_layout()\n",
    "    plt.show()\n",
    "    \n",
    "    # peak_text_prompter(peaks, counts, bin_edges, delta_bin)"
   ]
  },
  {
   "cell_type": "code",
   "execution_count": 5,
   "id": "e7645aa7",
   "metadata": {},
   "outputs": [],
   "source": [
    "def nD_histogram(data, nD):\n",
    "    if (type(data) != dict):\n",
    "        pass #ARRAY\n",
    "    else:\n",
    "        df = pd.DataFrame({\n",
    "            'theta': data['theta'],\n",
    "            'phi': data['phi']\n",
    "        })\n",
    "        plt.figure(figsize=(6,4), dpi=250)\n",
    "        sb.histplot(data=df, x='theta', y='phi', bins=50, cbar=True, cmap='viridis')\n",
    "        # Customize labels and title\n",
    "        plt.title(\"2D Heatmap of Spherical Angles theta and phi\")\n",
    "        plt.xlabel(\"theta (radians)\")\n",
    "        plt.ylabel(\"phi (radians)\")\n",
    "\n",
    "        # Show plot\n",
    "        plt.tight_layout()\n",
    "        plt.show()\n",
    "    return 42"
   ]
  },
  {
   "cell_type": "code",
   "execution_count": 146,
   "id": "aedb8666",
   "metadata": {},
   "outputs": [],
   "source": [
    "def full_histo_suite(data):\n",
    "    return 'Arschf***e.txt not found'"
   ]
  },
  {
   "cell_type": "code",
   "execution_count": 14,
   "id": "ec079c8f",
   "metadata": {},
   "outputs": [
    {
     "name": "stdout",
     "output_type": "stream",
     "text": [
      "True\n",
      "Array for key Ekin created. 1/3\n",
      "Array for key theta created. 2/3\n",
      "Array for key phi created. 3/3\n",
      "WARNING: The data is now structured in a dictionary, with the keys dict_keys(['Ekin', 'theta', 'phi'])\n",
      "19.711998550222624\n"
     ]
    }
   ],
   "source": [
    "data = json_to_np(json_path + \"//BonnPIXE2_Blade15_Front17544_PIXE_1.json\" , json_field='all')\n",
    "print(np.max(data['Ekin']))\n",
    "\n",
    "# nD_histogram(data,nD=2)\n"
   ]
  },
  {
   "cell_type": "code",
   "execution_count": null,
   "id": "7bcd0074",
   "metadata": {},
   "outputs": [],
   "source": [
    "import numpy as np\n",
    "import matplotlib.pyplot as plt\n",
    "from mpl_toolkits.mplot3d import Axes3D\n",
    "from scipy.stats import gaussian_kde\n",
    "\n",
    "# Convert to Cartesian coordinates (unit sphere)\n",
    "x = np.sin(data['theta']) * np.cos(data['phi'])\n",
    "y = np.sin(data['theta']) * np.sin(data['phi'])\n",
    "z = np.cos(data['theta'])\n",
    "\n",
    "# Estimate density in θ–φ space\n",
    "values = np.vstack([data['theta'], data['phi']])\n",
    "density = gaussian_kde(values)(values)  # density evaluated at each (θ, φ)\n",
    "\n",
    "# Plotting\n",
    "fig = plt.figure(figsize=(8, 8))\n",
    "ax = fig.add_subplot(111, projection='3d')\n",
    "\n",
    "# Plot each point with color based on density\n",
    "sc = ax.scatter(x, y, z, c=density, cmap='plasma', s=1, alpha=0.8)\n",
    "\n",
    "# Optional: wireframe for reference\n",
    "u, v = np.mgrid[0:2*np.pi:40j, 0:np.pi:20j]\n",
    "xs = np.sin(v) * np.cos(u)\n",
    "ys = np.sin(v) * np.sin(u)\n",
    "zs = np.cos(v)\n",
    "ax.plot_wireframe(xs, ys, zs, color='gray', linewidth=0.2, alpha=0.3)\n",
    "\n",
    "# Add colorbar\n",
    "cbar = plt.colorbar(sc, ax=ax, shrink=0.6)\n",
    "cbar.set_label(\"Point Density in θ–φ Space\")\n",
    "\n",
    "# Clean look\n",
    "ax.set_title('Sphere Colored by Angular Density')\n",
    "ax.set_box_aspect([1,1,1])\n",
    "ax.axis('off')\n",
    "\n",
    "plt.tight_layout()\n",
    "plt.show()\n"
   ]
  },
  {
   "cell_type": "code",
   "execution_count": 144,
   "id": "8dcd814f",
   "metadata": {},
   "outputs": [
    {
     "name": "stdout",
     "output_type": "stream",
     "text": [
      "8750\n"
     ]
    },
    {
     "data": {
      "image/png": "[encoded data removed]",
      "text/plain": [
       "<Figure size 1250x750 with 1 Axes>"
      ]
     },
     "metadata": {},
     "output_type": "display_data"
    }
   ],
   "source": [
    "array_to_histo(data['Ekin'], mask_min=0, mask_max=1.05)\n",
    "# array_to_histo(data['Ekin'], mask_max=520)"
   ]
  },
  {
   "cell_type": "code",
   "execution_count": null,
   "id": "20fe9363",
   "metadata": {},
   "outputs": [
    {
     "ename": "AttributeError",
     "evalue": "module 'pyne' has no attribute 'data'",
     "output_type": "error",
     "traceback": [
      "\u001b[1;31m---------------------------------------------------------------------------\u001b[0m",
      "\u001b[1;31mAttributeError\u001b[0m                            Traceback (most recent call last)",
      "Cell \u001b[1;32mIn[147], line 2\u001b[0m\n\u001b[0;32m      1\u001b[0m xy\u001b[38;5;241m.\u001b[39mxray_transition_energy_eV(\u001b[38;5;241m29\u001b[39m, \u001b[38;5;124m'\u001b[39m\u001b[38;5;124mKa2\u001b[39m\u001b[38;5;124m'\u001b[39m)\n\u001b[1;32m----> 2\u001b[0m \u001b[43mpyne\u001b[49m\u001b[38;5;241;43m.\u001b[39;49m\u001b[43mdata\u001b[49m\u001b[38;5;241m.\u001b[39mgamma_from_to_byen(\u001b[38;5;241m511\u001b[39m)\n",
      "\u001b[1;31mAttributeError\u001b[0m: module 'pyne' has no attribute 'data'"
     ]
    }
   ],
   "source": [
    "xy.xray_transition_energy_eV(29, 'Ka2')\n"
   ]
  },
  {
   "cell_type": "code",
   "execution_count": null,
   "id": "f9a7e509",
   "metadata": {},
   "outputs": [],
   "source": []
  }
 ],
 "metadata": {
  "kernelspec": {
   "display_name": "Python 3",
   "language": "python",
   "name": "python3"
  },
  "language_info": {
   "codemirror_mode": {
    "name": "ipython",
    "version": 3
   },
   "file_extension": ".py",
   "mimetype": "text/x-python",
   "name": "python",
   "nbconvert_exporter": "python",
   "pygments_lexer": "ipython3",
   "version": "3.12.3"
  }
 },
 "nbformat": 4,
 "nbformat_minor": 5
}
